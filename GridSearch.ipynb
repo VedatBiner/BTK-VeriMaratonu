{
 "cells": [
  {
   "cell_type": "markdown",
   "metadata": {},
   "source": [
    "## Grid Search Örneği"
   ]
  },
  {
   "cell_type": "code",
   "execution_count": 1,
   "metadata": {},
   "outputs": [],
   "source": [
    "# Kütüphaneler\n",
    "import numpy as np\n",
    "import pandas as pd\n",
    "import matplotlib.pyplot as plt\n",
    "\n",
    "# Iris Data set\n",
    "from sklearn.datasets import load_iris\n",
    "\n",
    "# uyarıları kapatalım.\n",
    "import warnings\n",
    "warnings.filterwarnings(\"ignore\")"
   ]
  },
  {
   "cell_type": "code",
   "execution_count": 5,
   "metadata": {},
   "outputs": [],
   "source": [
    "# verileri yükleyelim\n",
    "iris = load_iris()\n",
    "x = iris.data # özellikler\n",
    "y = iris.target # sınıf"
   ]
  },
  {
   "cell_type": "code",
   "execution_count": 6,
   "metadata": {},
   "outputs": [],
   "source": [
    "# normalizasyon\n",
    "x = (x -np.min(x)) / (np.max(x) - np.min(x))"
   ]
  },
  {
   "cell_type": "code",
   "execution_count": 7,
   "metadata": {},
   "outputs": [],
   "source": [
    "# Eğitim ve test bölünmesi\n",
    "from sklearn.model_selection import train_test_split\n",
    "x_train, x_test, y_train, y_test = train_test_split(x, y, test_size = 0.3)"
   ]
  },
  {
   "cell_type": "code",
   "execution_count": 8,
   "metadata": {},
   "outputs": [],
   "source": [
    "# 3 En yakın komşu\n",
    "from sklearn.neighbors import KNeighborsClassifier\n",
    "knn = KNeighborsClassifier(n_neighbors = 3)"
   ]
  },
  {
   "cell_type": "code",
   "execution_count": 9,
   "metadata": {},
   "outputs": [
    {
     "data": {
      "text/plain": [
       "GridSearchCV(cv=10, estimator=KNeighborsClassifier(),\n",
       "             param_grid={'n_neighbors': array([ 1,  2,  3,  4,  5,  6,  7,  8,  9, 10, 11, 12, 13, 14, 15, 16, 17,\n",
       "       18, 19, 20, 21, 22, 23, 24, 25, 26, 27, 28, 29, 30, 31, 32, 33, 34,\n",
       "       35, 36, 37, 38, 39, 40, 41, 42, 43, 44, 45, 46, 47, 48, 49])})"
      ]
     },
     "execution_count": 9,
     "metadata": {},
     "output_type": "execute_result"
    }
   ],
   "source": [
    "# Izgara Araması çapraz doğrulama\n",
    "from sklearn.model_selection import GridSearchCV\n",
    "grid = {\"n_neighbors\" : np.arange(1, 50)}\n",
    "knn = KNeighborsClassifier()\n",
    "knn_cv = GridSearchCV(knn, grid, cv = 10) # grid search\n",
    "knn_cv.fit(x, y)"
   ]
  },
  {
   "cell_type": "code",
   "execution_count": 10,
   "metadata": {},
   "outputs": [
    {
     "name": "stdout",
     "output_type": "stream",
     "text": [
      "En iyi K Değeri :  {'n_neighbors': 13}\n",
      "En iyi K değrine göre en iyi doğruluk değeri :  0.9800000000000001\n"
     ]
    }
   ],
   "source": [
    "# Sonuçlar\n",
    "print(\"En iyi K Değeri : \", knn_cv.best_params_)\n",
    "print(\"En iyi K değrine göre en iyi doğruluk değeri : \", knn_cv.best_score_)"
   ]
  },
  {
   "cell_type": "code",
   "execution_count": 11,
   "metadata": {},
   "outputs": [
    {
     "name": "stdout",
     "output_type": "stream",
     "text": [
      "En iyi hiperparametreler :  {'C': 1000.0, 'penalty': 'l2'}\n",
      "En iyi hiperparmetrelere göreen iyi doğruluk değeri :  0.9800000000000001\n"
     ]
    }
   ],
   "source": [
    "# Lojistik regresyon için en iyi parametreleri bulalım.\n",
    "from sklearn.linear_model import LogisticRegression\n",
    "# l1 lasso ve l2 ridge\n",
    "grid = {\"C\" : np.logspace(-3, 3, 7), \"penalty\" : [\"l1\", \"l2\"]}\n",
    "logreg = LogisticRegression()\n",
    "logreg_cv = GridSearchCV(logreg, grid, cv = 10)\n",
    "logreg_cv.fit(x, y)\n",
    "print(\"En iyi hiperparametreler : \", logreg_cv.best_params_)\n",
    "print(\"En iyi hiperparmetrelere göreen iyi doğruluk değeri : \", logreg_cv.best_score_)"
   ]
  }
 ],
 "metadata": {
  "interpreter": {
   "hash": "df0bdd44f3282c8b0fb7a07242e441c802c76eac2f190fb5c82b8993c3ec7e7e"
  },
  "kernelspec": {
   "display_name": "Python 3.8.8 64-bit ('base': conda)",
   "name": "python3"
  },
  "language_info": {
   "codemirror_mode": {
    "name": "ipython",
    "version": 3
   },
   "file_extension": ".py",
   "mimetype": "text/x-python",
   "name": "python",
   "nbconvert_exporter": "python",
   "pygments_lexer": "ipython3",
   "version": "3.9.7"
  },
  "orig_nbformat": 4
 },
 "nbformat": 4,
 "nbformat_minor": 2
}
