{
 "cells": [
  {
   "cell_type": "markdown",
   "metadata": {},
   "source": [
    "## CNN Evrişimsel Sinir Ağları Örneği"
   ]
  },
  {
   "cell_type": "markdown",
   "metadata": {},
   "source": [
    "### Kütüphanelerin yüklenmesi"
   ]
  },
  {
   "cell_type": "code",
   "execution_count": 1,
   "metadata": {},
   "outputs": [],
   "source": [
    "# Kütüphaneler\n",
    "import numpy as np\n",
    "import pandas as pd\n",
    "import matplotlib.pyplot as plt\n",
    "import seaborn as sns\n",
    "\n",
    "# uyarıları kapatalım.\n",
    "import warnings\n",
    "warnings.filterwarnings(\"ignore\")"
   ]
  },
  {
   "cell_type": "markdown",
   "metadata": {},
   "source": [
    "### Verileri Yükleyelim"
   ]
  },
  {
   "cell_type": "code",
   "execution_count": 2,
   "metadata": {},
   "outputs": [
    {
     "name": "stdout",
     "output_type": "stream",
     "text": [
      "Veri boyutu :  (42000, 785)\n"
     ]
    },
    {
     "data": {
      "text/html": [
       "<div>\n",
       "<style scoped>\n",
       "    .dataframe tbody tr th:only-of-type {\n",
       "        vertical-align: middle;\n",
       "    }\n",
       "\n",
       "    .dataframe tbody tr th {\n",
       "        vertical-align: top;\n",
       "    }\n",
       "\n",
       "    .dataframe thead th {\n",
       "        text-align: right;\n",
       "    }\n",
       "</style>\n",
       "<table border=\"1\" class=\"dataframe\">\n",
       "  <thead>\n",
       "    <tr style=\"text-align: right;\">\n",
       "      <th></th>\n",
       "      <th>label</th>\n",
       "      <th>pixel0</th>\n",
       "      <th>pixel1</th>\n",
       "      <th>pixel2</th>\n",
       "      <th>pixel3</th>\n",
       "      <th>pixel4</th>\n",
       "      <th>pixel5</th>\n",
       "      <th>pixel6</th>\n",
       "      <th>pixel7</th>\n",
       "      <th>pixel8</th>\n",
       "      <th>...</th>\n",
       "      <th>pixel774</th>\n",
       "      <th>pixel775</th>\n",
       "      <th>pixel776</th>\n",
       "      <th>pixel777</th>\n",
       "      <th>pixel778</th>\n",
       "      <th>pixel779</th>\n",
       "      <th>pixel780</th>\n",
       "      <th>pixel781</th>\n",
       "      <th>pixel782</th>\n",
       "      <th>pixel783</th>\n",
       "    </tr>\n",
       "  </thead>\n",
       "  <tbody>\n",
       "    <tr>\n",
       "      <th>0</th>\n",
       "      <td>1</td>\n",
       "      <td>0</td>\n",
       "      <td>0</td>\n",
       "      <td>0</td>\n",
       "      <td>0</td>\n",
       "      <td>0</td>\n",
       "      <td>0</td>\n",
       "      <td>0</td>\n",
       "      <td>0</td>\n",
       "      <td>0</td>\n",
       "      <td>...</td>\n",
       "      <td>0</td>\n",
       "      <td>0</td>\n",
       "      <td>0</td>\n",
       "      <td>0</td>\n",
       "      <td>0</td>\n",
       "      <td>0</td>\n",
       "      <td>0</td>\n",
       "      <td>0</td>\n",
       "      <td>0</td>\n",
       "      <td>0</td>\n",
       "    </tr>\n",
       "    <tr>\n",
       "      <th>1</th>\n",
       "      <td>0</td>\n",
       "      <td>0</td>\n",
       "      <td>0</td>\n",
       "      <td>0</td>\n",
       "      <td>0</td>\n",
       "      <td>0</td>\n",
       "      <td>0</td>\n",
       "      <td>0</td>\n",
       "      <td>0</td>\n",
       "      <td>0</td>\n",
       "      <td>...</td>\n",
       "      <td>0</td>\n",
       "      <td>0</td>\n",
       "      <td>0</td>\n",
       "      <td>0</td>\n",
       "      <td>0</td>\n",
       "      <td>0</td>\n",
       "      <td>0</td>\n",
       "      <td>0</td>\n",
       "      <td>0</td>\n",
       "      <td>0</td>\n",
       "    </tr>\n",
       "    <tr>\n",
       "      <th>2</th>\n",
       "      <td>1</td>\n",
       "      <td>0</td>\n",
       "      <td>0</td>\n",
       "      <td>0</td>\n",
       "      <td>0</td>\n",
       "      <td>0</td>\n",
       "      <td>0</td>\n",
       "      <td>0</td>\n",
       "      <td>0</td>\n",
       "      <td>0</td>\n",
       "      <td>...</td>\n",
       "      <td>0</td>\n",
       "      <td>0</td>\n",
       "      <td>0</td>\n",
       "      <td>0</td>\n",
       "      <td>0</td>\n",
       "      <td>0</td>\n",
       "      <td>0</td>\n",
       "      <td>0</td>\n",
       "      <td>0</td>\n",
       "      <td>0</td>\n",
       "    </tr>\n",
       "    <tr>\n",
       "      <th>3</th>\n",
       "      <td>4</td>\n",
       "      <td>0</td>\n",
       "      <td>0</td>\n",
       "      <td>0</td>\n",
       "      <td>0</td>\n",
       "      <td>0</td>\n",
       "      <td>0</td>\n",
       "      <td>0</td>\n",
       "      <td>0</td>\n",
       "      <td>0</td>\n",
       "      <td>...</td>\n",
       "      <td>0</td>\n",
       "      <td>0</td>\n",
       "      <td>0</td>\n",
       "      <td>0</td>\n",
       "      <td>0</td>\n",
       "      <td>0</td>\n",
       "      <td>0</td>\n",
       "      <td>0</td>\n",
       "      <td>0</td>\n",
       "      <td>0</td>\n",
       "    </tr>\n",
       "    <tr>\n",
       "      <th>4</th>\n",
       "      <td>0</td>\n",
       "      <td>0</td>\n",
       "      <td>0</td>\n",
       "      <td>0</td>\n",
       "      <td>0</td>\n",
       "      <td>0</td>\n",
       "      <td>0</td>\n",
       "      <td>0</td>\n",
       "      <td>0</td>\n",
       "      <td>0</td>\n",
       "      <td>...</td>\n",
       "      <td>0</td>\n",
       "      <td>0</td>\n",
       "      <td>0</td>\n",
       "      <td>0</td>\n",
       "      <td>0</td>\n",
       "      <td>0</td>\n",
       "      <td>0</td>\n",
       "      <td>0</td>\n",
       "      <td>0</td>\n",
       "      <td>0</td>\n",
       "    </tr>\n",
       "  </tbody>\n",
       "</table>\n",
       "<p>5 rows × 785 columns</p>\n",
       "</div>"
      ],
      "text/plain": [
       "   label  pixel0  pixel1  pixel2  pixel3  pixel4  pixel5  pixel6  pixel7  \\\n",
       "0      1       0       0       0       0       0       0       0       0   \n",
       "1      0       0       0       0       0       0       0       0       0   \n",
       "2      1       0       0       0       0       0       0       0       0   \n",
       "3      4       0       0       0       0       0       0       0       0   \n",
       "4      0       0       0       0       0       0       0       0       0   \n",
       "\n",
       "   pixel8  ...  pixel774  pixel775  pixel776  pixel777  pixel778  pixel779  \\\n",
       "0       0  ...         0         0         0         0         0         0   \n",
       "1       0  ...         0         0         0         0         0         0   \n",
       "2       0  ...         0         0         0         0         0         0   \n",
       "3       0  ...         0         0         0         0         0         0   \n",
       "4       0  ...         0         0         0         0         0         0   \n",
       "\n",
       "   pixel780  pixel781  pixel782  pixel783  \n",
       "0         0         0         0         0  \n",
       "1         0         0         0         0  \n",
       "2         0         0         0         0  \n",
       "3         0         0         0         0  \n",
       "4         0         0         0         0  \n",
       "\n",
       "[5 rows x 785 columns]"
      ]
     },
     "execution_count": 2,
     "metadata": {},
     "output_type": "execute_result"
    }
   ],
   "source": [
    "# Veriyi içeri alalım\n",
    "veri = pd.read_csv(\"/DATA/datasets/egitim.csv\")\n",
    "# 28x28 pixel 785 sütunlu bir veri\n",
    "print(\"Veri boyutu : \", veri.shape)\n",
    "veri.head()"
   ]
  },
  {
   "cell_type": "markdown",
   "metadata": {},
   "source": [
    "### Etiketleri Ayıralım"
   ]
  },
  {
   "cell_type": "code",
   "execution_count": 3,
   "metadata": {},
   "outputs": [
    {
     "name": "stdout",
     "output_type": "stream",
     "text": [
      "X veri :  (42000, 784)\n",
      "Y veri :  (42000,)\n"
     ]
    }
   ],
   "source": [
    "# label 'ları ayıralım\n",
    "Y_veri = veri[\"label\"]\n",
    "# X Eğitim veri seti\n",
    "X_veri = veri.drop([\"label\"], axis = 1)\n",
    "print(\"X veri : \", X_veri.shape)\n",
    "print(\"Y veri : \", Y_veri.shape)"
   ]
  },
  {
   "cell_type": "markdown",
   "metadata": {},
   "source": [
    "### Veri Adetlerini Görselleştirelim"
   ]
  },
  {
   "cell_type": "code",
   "execution_count": 4,
   "metadata": {},
   "outputs": [
    {
     "data": {
      "image/png": "[encoded data removed]",
      "text/plain": [
       "<Figure size 1080x504 with 1 Axes>"
      ]
     },
     "metadata": {
      "needs_background": "light"
     },
     "output_type": "display_data"
    },
    {
     "name": "stdout",
     "output_type": "stream",
     "text": [
      "sınıflar ve örnek sayıları :  1    4684\n",
      "7    4401\n",
      "3    4351\n",
      "9    4188\n",
      "2    4177\n",
      "6    4137\n",
      "0    4132\n",
      "4    4072\n",
      "8    4063\n",
      "5    3795\n",
      "Name: label, dtype: int64\n"
     ]
    }
   ],
   "source": [
    "# Görselleştirme\n",
    "plt.figure(figsize = (15, 7))\n",
    "g = sns.countplot(Y_veri, palette = \"icefire\")\n",
    "plt.title(\"Sınıflar\")\n",
    "plt.show()\n",
    "print(\"sınıflar ve örnek sayıları : \", Y_veri.value_counts())"
   ]
  },
  {
   "cell_type": "markdown",
   "metadata": {},
   "source": [
    "### Resmin Boyutu"
   ]
  },
  {
   "cell_type": "code",
   "execution_count": 5,
   "metadata": {},
   "outputs": [
    {
     "data": {
      "text/plain": [
       "28"
      ]
     },
     "execution_count": 5,
     "metadata": {},
     "output_type": "execute_result"
    }
   ],
   "source": [
    "# resmin boyutu\n",
    "resim_boyutu = int(np.sqrt(X_veri.shape[1]))\n",
    "resim_boyutu"
   ]
  },
  {
   "cell_type": "markdown",
   "metadata": {},
   "source": [
    "### Verimizi görselleştirelim - 2 Sınıfı"
   ]
  },
  {
   "cell_type": "code",
   "execution_count": 6,
   "metadata": {},
   "outputs": [
    {
     "data": {
      "image/png": "[encoded data removed]",
      "text/plain": [
       "<Figure size 432x288 with 1 Axes>"
      ]
     },
     "metadata": {
      "needs_background": "light"
     },
     "output_type": "display_data"
    }
   ],
   "source": [
    "# Görsel - 2 sınıfı\n",
    "resim1 = X_veri.iloc[1900].values\n",
    "resim1 = resim1.reshape((resim_boyutu, resim_boyutu))\n",
    "plt.imshow(resim1, cmap = \"gray\")\n",
    "plt.axis(\"off\")\n",
    "plt.show()\n"
   ]
  },
  {
   "cell_type": "markdown",
   "metadata": {},
   "source": [
    "### Verimizi görselleştirelim - 3 Sınıfı"
   ]
  },
  {
   "cell_type": "code",
   "execution_count": 7,
   "metadata": {},
   "outputs": [
    {
     "data": {
      "image/png": "[encoded data removed]",
      "text/plain": [
       "<Figure size 432x288 with 1 Axes>"
      ]
     },
     "metadata": {
      "needs_background": "light"
     },
     "output_type": "display_data"
    }
   ],
   "source": [
    "# Görsel - 3 sınıfı\n",
    "resim1 = X_veri.iloc[19500].values\n",
    "resim1 = resim1.reshape((resim_boyutu, resim_boyutu))\n",
    "plt.imshow(resim1, cmap = \"gray\")\n",
    "plt.axis(\"off\")\n",
    "plt.show()"
   ]
  },
  {
   "cell_type": "markdown",
   "metadata": {},
   "source": [
    "### Verimizi görselleştirelim - 4 Sınıfı"
   ]
  },
  {
   "cell_type": "code",
   "execution_count": 8,
   "metadata": {},
   "outputs": [
    {
     "data": {
      "image/png": "[encoded data removed]",
      "text/plain": [
       "<Figure size 432x288 with 1 Axes>"
      ]
     },
     "metadata": {
      "needs_background": "light"
     },
     "output_type": "display_data"
    }
   ],
   "source": [
    "# Görsel - 4 sınıfı\n",
    "resim1 = X_veri.iloc[700].values\n",
    "resim1 = resim1.reshape((resim_boyutu, resim_boyutu))\n",
    "plt.imshow(resim1, cmap = \"gray\")\n",
    "plt.axis(\"off\")\n",
    "plt.show()\n"
   ]
  },
  {
   "cell_type": "markdown",
   "metadata": {},
   "source": [
    "### Verimizi Normalleştirelim."
   ]
  },
  {
   "cell_type": "code",
   "execution_count": 9,
   "metadata": {},
   "outputs": [],
   "source": [
    "# Normalizasyon\n",
    "X_veri = X_veri / 255.0"
   ]
  },
  {
   "cell_type": "markdown",
   "metadata": {},
   "source": [
    "### Verimizi Reshape Edelim"
   ]
  },
  {
   "cell_type": "code",
   "execution_count": 10,
   "metadata": {},
   "outputs": [
    {
     "name": "stdout",
     "output_type": "stream",
     "text": [
      "X eğitim boyut :  (42000, 28, 28, 1)\n"
     ]
    }
   ],
   "source": [
    "# reshape\n",
    "X_veri = X_veri.values.reshape(-1, 28, 28, 1)\n",
    "print(\"X eğitim boyut : \", X_veri.shape)"
   ]
  },
  {
   "cell_type": "markdown",
   "metadata": {},
   "source": [
    "### Etiketleri Kodlayalım"
   ]
  },
  {
   "cell_type": "code",
   "execution_count": 11,
   "metadata": {},
   "outputs": [],
   "source": [
    "# etiket kodlama\n",
    "from keras.utils.np_utils import to_categorical # vektöre çevirmek için\n",
    "y_veri = to_categorical(Y_veri, num_classes = 10)"
   ]
  },
  {
   "cell_type": "markdown",
   "metadata": {},
   "source": [
    "### Verinin test ve train olarak bölünmesi"
   ]
  },
  {
   "cell_type": "code",
   "execution_count": 12,
   "metadata": {},
   "outputs": [
    {
     "name": "stdout",
     "output_type": "stream",
     "text": [
      "X train :  (37800, 28, 28, 1)\n",
      "X test :  (4200, 28, 28, 1)\n",
      "Y train :  (37800,)\n",
      "Y test :  (4200,)\n"
     ]
    }
   ],
   "source": [
    "# train ve test bölünmesi\n",
    "from sklearn.model_selection import train_test_split\n",
    "X_egitim, X_test, Y_egitim, Y_test = train_test_split(X_veri, Y_veri, test_size = 0.1, random_state = 2)\n",
    "print(\"X train : \", X_egitim.shape)\n",
    "print(\"X test : \", X_test.shape)\n",
    "print(\"Y train : \", Y_egitim.shape)\n",
    "print(\"Y test : \", Y_test.shape)"
   ]
  },
  {
   "cell_type": "markdown",
   "metadata": {},
   "source": [
    "### Kütüphaneleri Yükleyelim."
   ]
  },
  {
   "cell_type": "code",
   "execution_count": 14,
   "metadata": {},
   "outputs": [],
   "source": [
    "# Kütüphaneleri yükleyelim.\n",
    "from sklearn.metrics import confusion_matrix\n",
    "import itertools\n",
    "from keras.utils.np_utils import to_categorical\n",
    "from keras.models import Sequential\n",
    "from keras.layers import Dense, Dropout, Flatten, Conv2D, MaxPool2D\n",
    "# Burada hata var \n",
    "# from keras.optimizers import RMSprop, Adam\n",
    "from keras.preprocessing.image import ImageDataGenerator\n",
    "from keras.callbacks import ReduceLROnPlateau\n",
    "\n",
    "# bu eklenebilir.\n",
    "'''\n",
    "from tensorflow.keras import optimizers\n",
    "optimizers.RMSprop\n",
    "optimizers.Adam\n",
    "'''\n",
    "\n",
    "# veya bu şekilde eklenebilir.\n",
    "from tensorflow.keras.optimizers import RMSprop,Adam\n",
    "import tensorflow as tf"
   ]
  },
  {
   "cell_type": "markdown",
   "metadata": {},
   "source": [
    "### Modelleme"
   ]
  },
  {
   "cell_type": "code",
   "execution_count": 23,
   "metadata": {},
   "outputs": [],
   "source": [
    "model = Sequential()\n",
    "# evrişim, ortaklama, seyreltme - 1 \n",
    "# 2 Boyutlu convolution yapılacak\n",
    "model.add(Conv2D(filters = 8, kernel_size = (5, 5), padding = \"Same\",\n",
    "    activation = \"relu\", input_shape = (28, 28, 1)))\n",
    "model.add(MaxPool2D(pool_size = (2, 2)))\n",
    "# 0.25 oranında seyreltme yapılıyor.\n",
    "model.add(Dropout(0.25))\n",
    "# evrişim, ortaklama, seyreltme - 2\n",
    "model.add(Conv2D(filters = 16, kernel_size = (3, 3), padding = \"Same\",\n",
    "    activation = \"relu\"))\n",
    "model.add(MaxPool2D(pool_size = (2, 2), strides = (2, 2)))\n",
    "# 0.25 oranında seyreltme yapılıyor.\n",
    "model.add(Dropout(0.25))\n",
    "# tam bağlantı\n",
    "# Düzleştirme\n",
    "model.add(Flatten())\n",
    "model.add(Dense(256, activation = \"relu\"))\n",
    "# Seyreltme\n",
    "model.add(Dropout(0.5))\n",
    "# Çıkışta softmax kullanıyoruz.\n",
    "model.add(Dense(10, activation = \"softmax\"))"
   ]
  },
  {
   "cell_type": "markdown",
   "metadata": {},
   "source": [
    "### Optimizer Belirlenmesi - Adam Optimizer Kullanacağız"
   ]
  },
  {
   "cell_type": "code",
   "execution_count": 24,
   "metadata": {},
   "outputs": [],
   "source": [
    "# Adam optimizasyon yöntemi\n",
    "optimizer = tf.keras.optimizers.Adam(lr = 0.001, beta_1 = 0.9, beta_2 = 0.999)"
   ]
  },
  {
   "cell_type": "markdown",
   "metadata": {},
   "source": [
    "### Modelin Derlenmesi"
   ]
  },
  {
   "cell_type": "code",
   "execution_count": 32,
   "metadata": {},
   "outputs": [],
   "source": [
    "# modeli derleyelim.\n",
    "# Kategorik çapraz entopi maliyet yöntemi kullanılıyor.\n",
    "# Aşağıdaki yöntem ğitimde hata verdi.\n",
    "# model.compile(optimizer = optimizer, loss = \"categorical_crossentropy\", metrics = [\"accuracy\"])\n",
    "model.compile(optimizer = optimizer, \n",
    "    loss = \"sparse_categorical_crossentropy\", metrics = [\"accuracy\"])"
   ]
  },
  {
   "cell_type": "markdown",
   "metadata": {},
   "source": [
    "### Döngü sayısı ve eğitim boyutu"
   ]
  },
  {
   "cell_type": "code",
   "execution_count": 34,
   "metadata": {},
   "outputs": [],
   "source": [
    "# Döngü sayısı ve eğitim boyutu\n",
    "batch_size = 250\n",
    "epochs = 10"
   ]
  },
  {
   "cell_type": "markdown",
   "metadata": {},
   "source": [
    "### Overfitting için yapay olarak veri seti genişletmesi yapılıyor.\n",
    "### Bu yönteme data augmentation denilir."
   ]
  },
  {
   "cell_type": "code",
   "execution_count": 35,
   "metadata": {},
   "outputs": [],
   "source": [
    "# data augmentation\n",
    "datagen = ImageDataGenerator(\n",
    "    featurewise_center = False, # girdi ortalmasını veri kümesi üzerinden 0 olarak ayarla\n",
    "    samplewise_center = False, # her bir örenk ortalamasını 0 olarak ayarla\n",
    "    featurewise_std_normalization = False, # girdileri veri kümesinin standartlarına böl\n",
    "    samplewise_std_normalization = False, # her girdiyi std'ye böl\n",
    "    zca_whitening = False, # dimension reduction\n",
    "    rotation_range = 5, # boyut küçültme\n",
    "    zoom_range = 0.1, # %10 görüntüyü rasgele yaklaştır.\n",
    "    width_shift_range = 0.1, # yatay rasgele kaydır\n",
    "    height_shift_range = 0.1, # dikey rasgele kaydır\n",
    "    horizontal_flip = False, # yatay rasgele çevir\n",
    "    vertical_flip = False # dikey rasgele çevir\n",
    ")\n",
    "datagen.fit(X_egitim)"
   ]
  },
  {
   "cell_type": "markdown",
   "metadata": {},
   "source": [
    "### Modelin eğitilmesi"
   ]
  },
  {
   "cell_type": "code",
   "execution_count": 36,
   "metadata": {},
   "outputs": [
    {
     "name": "stdout",
     "output_type": "stream",
     "text": [
      "Epoch 1/10\n",
      "151/151 - 15s - loss: 1.1410 - accuracy: 0.6140 - val_loss: 0.2366 - val_accuracy: 0.9360 - 15s/epoch - 100ms/step\n",
      "Epoch 2/10\n",
      "151/151 - 16s - loss: 0.4572 - accuracy: 0.8528 - val_loss: 0.1564 - val_accuracy: 0.9569 - 16s/epoch - 107ms/step\n",
      "Epoch 3/10\n",
      "151/151 - 19s - loss: 0.3421 - accuracy: 0.8909 - val_loss: 0.1106 - val_accuracy: 0.9681 - 19s/epoch - 125ms/step\n",
      "Epoch 4/10\n",
      "151/151 - 19s - loss: 0.2786 - accuracy: 0.9124 - val_loss: 0.0903 - val_accuracy: 0.9729 - 19s/epoch - 126ms/step\n",
      "Epoch 5/10\n",
      "151/151 - 19s - loss: 0.2517 - accuracy: 0.9211 - val_loss: 0.0799 - val_accuracy: 0.9748 - 19s/epoch - 124ms/step\n",
      "Epoch 6/10\n",
      "151/151 - 16s - loss: 0.2270 - accuracy: 0.9299 - val_loss: 0.0709 - val_accuracy: 0.9798 - 16s/epoch - 104ms/step\n",
      "Epoch 7/10\n",
      "151/151 - 17s - loss: 0.2063 - accuracy: 0.9358 - val_loss: 0.0665 - val_accuracy: 0.9802 - 17s/epoch - 110ms/step\n",
      "Epoch 8/10\n",
      "151/151 - 21s - loss: 0.1989 - accuracy: 0.9392 - val_loss: 0.0605 - val_accuracy: 0.9831 - 21s/epoch - 141ms/step\n",
      "Epoch 9/10\n",
      "151/151 - 20s - loss: 0.1875 - accuracy: 0.9428 - val_loss: 0.0594 - val_accuracy: 0.9838 - 20s/epoch - 134ms/step\n",
      "Epoch 10/10\n",
      "151/151 - 19s - loss: 0.1716 - accuracy: 0.9474 - val_loss: 0.0575 - val_accuracy: 0.9826 - 19s/epoch - 124ms/step\n"
     ]
    }
   ],
   "source": [
    "# Modeli eğitelim.\n",
    "history = model.fit_generator(\n",
    "    datagen.flow(X_egitim, Y_egitim, batch_size = batch_size),\n",
    "    epochs = epochs, validation_data = (X_test, Y_test), \n",
    "    steps_per_epoch = X_egitim.shape[0] // batch_size, verbose = 2\n",
    ")"
   ]
  },
  {
   "cell_type": "markdown",
   "metadata": {},
   "source": [
    "### Maliyeti Görselleştirelim"
   ]
  },
  {
   "cell_type": "code",
   "execution_count": 37,
   "metadata": {},
   "outputs": [
    {
     "data": {
      "image/png": "[encoded data removed]",
      "text/plain": [
       "<Figure size 432x288 with 1 Axes>"
      ]
     },
     "metadata": {
      "needs_background": "light"
     },
     "output_type": "display_data"
    }
   ],
   "source": [
    "# maliyet görselleştirme\n",
    "plt.plot(history.history[\"val_loss\"], color = \"b\")\n",
    "plt.title(\"Test Maliyet\")\n",
    "plt.xlabel(\"İterasyon\")\n",
    "plt.ylabel(\"Malyet\")\n",
    "plt.show()"
   ]
  },
  {
   "cell_type": "markdown",
   "metadata": {},
   "source": [
    "### Tahmin Yapalım"
   ]
  },
  {
   "cell_type": "code",
   "execution_count": 39,
   "metadata": {},
   "outputs": [
    {
     "data": {
      "image/png": "[encoded data removed]",
      "text/plain": [
       "<Figure size 576x576 with 2 Axes>"
      ]
     },
     "metadata": {
      "needs_background": "light"
     },
     "output_type": "display_data"
    }
   ],
   "source": [
    "# veri test setinden tahmin edilmesi\n",
    "Y_pred = model.predict(X_test)\n",
    "# tahmin edilen veriyi çevir\n",
    "Y_pred_classes = np.argmax(Y_pred, axis = 1)\n",
    "# test verisini çevir\n",
    "# bu satır hatalı\n",
    "# Y_true = np.argmax(Y_test, axis = 1)\n",
    "Y_true = Y_test.astype(int).tolist()\n",
    "# karışıklık matrisi\n",
    "confusion_mtx = confusion_matrix(Y_true, Y_pred_classes)\n",
    "# karışıklık matrisini çiz\n",
    "f, ax = plt.subplots(figsize = (8, 8))\n",
    "sns.heatmap(confusion_mtx, annot = True, linewidths = 0.01, \n",
    "    cmap = \"Greens\", linecolor = \"gray\", fmt = \".1f\", ax = ax)\n",
    "plt.xlabel(\"Tahminlenen Etiket\")\n",
    "plt.ylabel(\"Gerçek Etiket\")\n",
    "plt.title(\"Karışıklık Matrisi\")\n",
    "plt.show()"
   ]
  }
 ],
 "metadata": {
  "interpreter": {
   "hash": "df0bdd44f3282c8b0fb7a07242e441c802c76eac2f190fb5c82b8993c3ec7e7e"
  },
  "kernelspec": {
   "display_name": "Python 3.8.8 64-bit ('base': conda)",
   "name": "python3"
  },
  "language_info": {
   "codemirror_mode": {
    "name": "ipython",
    "version": 3
   },
   "file_extension": ".py",
   "mimetype": "text/x-python",
   "name": "python",
   "nbconvert_exporter": "python",
   "pygments_lexer": "ipython3",
   "version": "3.9.7"
  },
  "orig_nbformat": 4
 },
 "nbformat": 4,
 "nbformat_minor": 2
}
