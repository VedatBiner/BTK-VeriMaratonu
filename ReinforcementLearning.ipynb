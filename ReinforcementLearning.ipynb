{
 "cells": [
  {
   "cell_type": "code",
   "execution_count": 1,
   "metadata": {},
   "outputs": [
    {
     "name": "stderr",
     "output_type": "stream",
     "text": [
      "\n"
     ]
    }
   ],
   "source": [
    "# Kütüphaneler\n",
    "import numpy as np\n",
    "import pandas as pd\n",
    "import matplotlib.pyplot as plt\n",
    "import gym\n",
    "\n",
    "# uyarıları kapatalım.\n",
    "import warnings\n",
    "warnings.filterwarnings(\"ignore\")"
   ]
  },
  {
   "cell_type": "code",
   "execution_count": 4,
   "metadata": {},
   "outputs": [
    {
     "data": {
      "text/plain": [
       "<TimeLimit<OrderEnforcing<FrozenLakeEnv<FrozenLake-v1>>>>"
      ]
     },
     "execution_count": 4,
     "metadata": {},
     "output_type": "execute_result"
    }
   ],
   "source": [
    "# ortamı çağır\n",
    "env = gym.make(\"FrozenLake-v1\")\n",
    "env"
   ]
  },
  {
   "cell_type": "code",
   "execution_count": 5,
   "metadata": {},
   "outputs": [
    {
     "data": {
      "text/plain": [
       "array([[0., 0., 0., 0.],\n",
       "       [0., 0., 0., 0.],\n",
       "       [0., 0., 0., 0.],\n",
       "       [0., 0., 0., 0.],\n",
       "       [0., 0., 0., 0.],\n",
       "       [0., 0., 0., 0.],\n",
       "       [0., 0., 0., 0.],\n",
       "       [0., 0., 0., 0.],\n",
       "       [0., 0., 0., 0.],\n",
       "       [0., 0., 0., 0.],\n",
       "       [0., 0., 0., 0.],\n",
       "       [0., 0., 0., 0.],\n",
       "       [0., 0., 0., 0.],\n",
       "       [0., 0., 0., 0.],\n",
       "       [0., 0., 0., 0.],\n",
       "       [0., 0., 0., 0.]])"
      ]
     },
     "execution_count": 5,
     "metadata": {},
     "output_type": "execute_result"
    }
   ],
   "source": [
    "# Q-Table Oluştur\n",
    "q_table = np.zeros([env.observation_space.n, env.action_space.n])\n",
    "q_table"
   ]
  },
  {
   "cell_type": "code",
   "execution_count": 6,
   "metadata": {},
   "outputs": [],
   "source": [
    "# Hyper parameter\n",
    "gamma = 0.95 # indirim faktörü\n",
    "alpha = 0.80 # ağırlık oranı - zamansal fark\n",
    "epsilon = 0.10 # risk faktörü\n",
    "# görselleştirme listesi\n",
    "reward_list = []"
   ]
  },
  {
   "cell_type": "code",
   "execution_count": 8,
   "metadata": {},
   "outputs": [
    {
     "name": "stdout",
     "output_type": "stream",
     "text": [
      "Episode : 5000 \n",
      "Episode : 10000 \n",
      "Episode : 15000 \n",
      "Episode : 20000 \n",
      "Episode : 25000 \n",
      "Episode : 30000 \n",
      "Episode : 35000 \n",
      "Episode : 40000 \n",
      "Episode : 45000 \n",
      "Episode : 50000 \n",
      "Episode : 55000 \n",
      "Episode : 60000 \n",
      "Episode : 65000 \n",
      "Episode : 70000 \n",
      "Episode : 75000 \n",
      "Episode : 80000 \n",
      "Episode : 85000 \n",
      "Episode : 90000 \n",
      "Episode : 95000 \n"
     ]
    }
   ],
   "source": [
    "# Öğrenmeye başla\n",
    "episode_number = 100000 # 100000 bölüm\n",
    "for i in range(1, episode_number):\n",
    "    state = env.reset() # bölüm başında ortamı resetle\n",
    "    reward_count = 0\n",
    "    while True:\n",
    "        # %10 keşif, %90 Sömürü\n",
    "        if np.random.uniform(0, 1) < epsilon:\n",
    "            action = env.action_space.sample()\n",
    "        else:\n",
    "            action = np.argmax(q_table[state])\n",
    "        # eylem yap\n",
    "        next_state, reward, done, _ = env.step(action)\n",
    "        # Q öğrenem fonksiyonu\n",
    "        old_value = q_table[state, action] # old value\n",
    "        next_max = np.max(q_table[next_state]) # next_max\n",
    "        next_value = (1 -alpha) * old_value + alpha * (reward + gamma * next_max)\n",
    "        # Q tablosu güncelle\n",
    "        q_table[state, action] = next_value\n",
    "        # durum güncelle\n",
    "        state = next_state\n",
    "        # toplam ödül hesabı\n",
    "        reward_count += reward\n",
    "        # bölüm bittiyse yeni bölüme başla\n",
    "        if done:\n",
    "            break\n",
    "    if i % 5000 == 0:\n",
    "        print(\"Episode : {} \". format(i))\n",
    "    if i % 1000 == 0:\n",
    "        reward_list.append(reward_count)"
   ]
  },
  {
   "cell_type": "code",
   "execution_count": 9,
   "metadata": {},
   "outputs": [
    {
     "data": {
      "image/png": "[encoded data removed]",
      "text/plain": [
       "<Figure size 432x288 with 1 Axes>"
      ]
     },
     "metadata": {
      "needs_background": "light"
     },
     "output_type": "display_data"
    }
   ],
   "source": [
    "# Ödül görselleştirelim.\n",
    "plt.figure()\n",
    "plt.plot(reward_list)\n",
    "plt.xlabel(\"Bölüm Sayısı\")\n",
    "plt.ylabel(\"Ödül\")\n",
    "plt.show()"
   ]
  },
  {
   "cell_type": "code",
   "execution_count": 10,
   "metadata": {},
   "outputs": [
    {
     "data": {
      "text/plain": [
       "array([[3.43717455e-01, 8.43564123e-02, 2.52233055e-01, 9.48279927e-02],\n",
       "       [1.25182162e-03, 3.12207980e-03, 2.70711406e-02, 1.32092870e-01],\n",
       "       [1.31649566e-01, 7.56987210e-02, 7.15235296e-02, 8.67312336e-02],\n",
       "       [4.03050007e-02, 1.85202482e-02, 3.58876373e-03, 1.20711244e-01],\n",
       "       [3.53568308e-01, 1.99121286e-02, 7.34737917e-02, 4.64834310e-02],\n",
       "       [0.00000000e+00, 0.00000000e+00, 0.00000000e+00, 0.00000000e+00],\n",
       "       [1.45594210e-02, 1.99134559e-03, 9.86906104e-02, 1.91591465e-06],\n",
       "       [0.00000000e+00, 0.00000000e+00, 0.00000000e+00, 0.00000000e+00],\n",
       "       [1.89289808e-03, 1.17410536e-01, 5.13284782e-02, 5.48837355e-01],\n",
       "       [2.14558920e-02, 6.35985044e-01, 1.62993674e-01, 1.30883701e-01],\n",
       "       [8.00342400e-02, 1.34654868e-01, 4.54954154e-02, 5.87974106e-02],\n",
       "       [0.00000000e+00, 0.00000000e+00, 0.00000000e+00, 0.00000000e+00],\n",
       "       [0.00000000e+00, 0.00000000e+00, 0.00000000e+00, 0.00000000e+00],\n",
       "       [1.15824581e-01, 1.04486967e-01, 7.66911033e-01, 1.78459356e-01],\n",
       "       [2.92257537e-01, 2.80823516e-01, 7.13942619e-01, 2.88016862e-01],\n",
       "       [0.00000000e+00, 0.00000000e+00, 0.00000000e+00, 0.00000000e+00]])"
      ]
     },
     "execution_count": 10,
     "metadata": {},
     "output_type": "execute_result"
    }
   ],
   "source": [
    "# q_table yorumu\n",
    "q_table"
   ]
  },
  {
   "cell_type": "code",
   "execution_count": null,
   "metadata": {},
   "outputs": [],
   "source": []
  },
  {
   "cell_type": "code",
   "execution_count": null,
   "metadata": {},
   "outputs": [],
   "source": []
  }
 ],
 "metadata": {
  "interpreter": {
   "hash": "df0bdd44f3282c8b0fb7a07242e441c802c76eac2f190fb5c82b8993c3ec7e7e"
  },
  "kernelspec": {
   "display_name": "Python 3.8.8 64-bit ('base': conda)",
   "name": "python3"
  },
  "language_info": {
   "codemirror_mode": {
    "name": "ipython",
    "version": 3
   },
   "file_extension": ".py",
   "mimetype": "text/x-python",
   "name": "python",
   "nbconvert_exporter": "python",
   "pygments_lexer": "ipython3",
   "version": "3.9.7"
  },
  "orig_nbformat": 4
 },
 "nbformat": 4,
 "nbformat_minor": 2
}
