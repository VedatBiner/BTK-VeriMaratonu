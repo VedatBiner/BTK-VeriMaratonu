{
 "cells": [
  {
   "cell_type": "markdown",
   "metadata": {},
   "source": [
    "## Proje-2 Duygu Analizi"
   ]
  },
  {
   "cell_type": "markdown",
   "metadata": {},
   "source": [
    "### Kütüphanelerin yüklenmesi"
   ]
  },
  {
   "cell_type": "code",
   "execution_count": 2,
   "metadata": {},
   "outputs": [],
   "source": [
    "# Kütüphaneler\n",
    "import numpy as np\n",
    "import seaborn as sns\n",
    "import matplotlib.pyplot as plt\n",
    "from matplotlib.colors import ListedColormap\n",
    "from scipy import stats\n",
    "\n",
    "# Machine Learning\n",
    "from keras.datasets import imdb\n",
    "from keras.preprocessing.sequence import pad_sequences\n",
    "from keras.models import Sequential\n",
    "from keras.layers.embeddings import Embedding\n",
    "from keras.layers import SimpleRNN, Dense, Activation\n",
    "\n",
    "# uyarıları kapatalım.\n",
    "import warnings\n",
    "warnings.filterwarnings(\"ignore\")"
   ]
  },
  {
   "cell_type": "markdown",
   "metadata": {},
   "source": [
    "### Verileri Yükleyelim"
   ]
  },
  {
   "cell_type": "code",
   "execution_count": 3,
   "metadata": {},
   "outputs": [],
   "source": [
    "# Veri setini aktaralım\n",
    "(X_egitim, Y_egitim), (X_test, Y_test) = imdb.load_data(path = \"ibdb.npz\",\n",
    "    num_words = None, skip_top = 0, maxlen = None, seed = 113, \n",
    "    start_char = 1, oov_char = 2, index_from = 3)"
   ]
  },
  {
   "cell_type": "markdown",
   "metadata": {},
   "source": [
    "### Verinin Tipi"
   ]
  },
  {
   "cell_type": "code",
   "execution_count": 4,
   "metadata": {},
   "outputs": [
    {
     "name": "stdout",
     "output_type": "stream",
     "text": [
      "X Eğitim Tipi :  <class 'numpy.ndarray'>\n",
      "Y Eğitim Tipi :  <class 'numpy.ndarray'>\n"
     ]
    }
   ],
   "source": [
    "# Verinin tipi\n",
    "print(\"X Eğitim Tipi : \", type(X_egitim))\n",
    "print(\"Y Eğitim Tipi : \", type(Y_egitim))"
   ]
  },
  {
   "cell_type": "markdown",
   "metadata": {},
   "source": [
    "### Verinin Şekli"
   ]
  },
  {
   "cell_type": "code",
   "execution_count": 5,
   "metadata": {},
   "outputs": [
    {
     "name": "stdout",
     "output_type": "stream",
     "text": [
      "X Eğitim Şekli :  (25000,)\n",
      "Y Eğitim Şekli :  (25000,)\n"
     ]
    }
   ],
   "source": [
    "# verinin şekli\n",
    "print(\"X Eğitim Şekli : \", X_egitim.shape)\n",
    "print(\"Y Eğitim Şekli : \", Y_egitim.shape)"
   ]
  },
  {
   "cell_type": "markdown",
   "metadata": {},
   "source": [
    "### Etiket Değerleri"
   ]
  },
  {
   "cell_type": "code",
   "execution_count": 6,
   "metadata": {},
   "outputs": [
    {
     "name": "stdout",
     "output_type": "stream",
     "text": [
      "Y Eğitim Değerleri :  [0 1]\n",
      "Y Test Değrleri :  [0 1]\n"
     ]
    }
   ],
   "source": [
    "# Kaç etiket var?\n",
    "print(\"Y Eğitim Değerleri : \", np.unique(Y_egitim))\n",
    "print(\"Y Test Değrleri : \", np.unique(Y_test))"
   ]
  },
  {
   "cell_type": "markdown",
   "metadata": {},
   "source": [
    "### Eğitim veri seti dağılımı"
   ]
  },
  {
   "cell_type": "code",
   "execution_count": 9,
   "metadata": {},
   "outputs": [
    {
     "name": "stdout",
     "output_type": "stream",
     "text": [
      "Y eğitim dağılımı :  {0: 12500, 1: 12500}\n"
     ]
    }
   ],
   "source": [
    "# Eğitim veri setinin dağılımı\n",
    "unique, counts = np.unique(Y_egitim, return_counts = True)\n",
    "print(\"Y eğitim dağılımı : \", dict(zip(unique, counts)))"
   ]
  },
  {
   "cell_type": "markdown",
   "metadata": {},
   "source": [
    "### Test veri seti dağılımı"
   ]
  },
  {
   "cell_type": "code",
   "execution_count": 7,
   "metadata": {},
   "outputs": [
    {
     "name": "stdout",
     "output_type": "stream",
     "text": [
      "Y test dağılımı :  {0: 12500, 1: 12500}\n"
     ]
    }
   ],
   "source": [
    "# test veri setinin dağılımı\n",
    "unique, counts = np.unique(Y_test, return_counts = True)\n",
    "print(\"Y test dağılımı : \", dict(zip(unique, counts)))"
   ]
  },
  {
   "cell_type": "markdown",
   "metadata": {},
   "source": [
    "### Dağılımı görselleştirelim"
   ]
  },
  {
   "cell_type": "code",
   "execution_count": 8,
   "metadata": {},
   "outputs": [
    {
     "data": {
      "image/png": "[encoded data removed]",
      "text/plain": [
       "<Figure size 432x288 with 1 Axes>"
      ]
     },
     "metadata": {
      "needs_background": "light"
     },
     "output_type": "display_data"
    }
   ],
   "source": [
    "# Görsel - Y Eğitim\n",
    "plt.figure\n",
    "sns.countplot(Y_egitim)\n",
    "plt.xlabel(\"Sınıflar\")\n",
    "plt.ylabel(\"Frekans\")\n",
    "plt.title(\"Y Eğitim\")\n",
    "plt.show()"
   ]
  },
  {
   "cell_type": "code",
   "execution_count": 9,
   "metadata": {},
   "outputs": [
    {
     "data": {
      "image/png": "[encoded data removed]",
      "text/plain": [
       "<Figure size 432x288 with 1 Axes>"
      ]
     },
     "metadata": {
      "needs_background": "light"
     },
     "output_type": "display_data"
    }
   ],
   "source": [
    "# Görsel - Y Test\n",
    "plt.figure\n",
    "sns.countplot(Y_test)\n",
    "plt.xlabel(\"Sınıflar\")\n",
    "plt.ylabel(\"Frekans\")\n",
    "plt.title(\"Y Test\")\n",
    "plt.show()"
   ]
  },
  {
   "cell_type": "markdown",
   "metadata": {},
   "source": [
    "### Örnek bir yorum"
   ]
  },
  {
   "cell_type": "code",
   "execution_count": 10,
   "metadata": {},
   "outputs": [
    {
     "name": "stdout",
     "output_type": "stream",
     "text": [
      "Yorum :  [1, 14, 22, 16, 43, 530, 973, 1622, 1385, 65, 458, 4468, 66, 3941, 4, 173, 36, 256, 5, 25, 100, 43, 838, 112, 50, 670, 22665, 9, 35, 480, 284, 5, 150, 4, 172, 112, 167, 21631, 336, 385, 39, 4, 172, 4536, 1111, 17, 546, 38, 13, 447, 4, 192, 50, 16, 6, 147, 2025, 19, 14, 22, 4, 1920, 4613, 469, 4, 22, 71, 87, 12, 16, 43, 530, 38, 76, 15, 13, 1247, 4, 22, 17, 515, 17, 12, 16, 626, 18, 19193, 5, 62, 386, 12, 8, 316, 8, 106, 5, 4, 2223, 5244, 16, 480, 66, 3785, 33, 4, 130, 12, 16, 38, 619, 5, 25, 124, 51, 36, 135, 48, 25, 1415, 33, 6, 22, 12, 215, 28, 77, 52, 5, 14, 407, 16, 82, 10311, 8, 4, 107, 117, 5952, 15, 256, 4, 31050, 7, 3766, 5, 723, 36, 71, 43, 530, 476, 26, 400, 317, 46, 7, 4, 12118, 1029, 13, 104, 88, 4, 381, 15, 297, 98, 32, 2071, 56, 26, 141, 6, 194, 7486, 18, 4, 226, 22, 21, 134, 476, 26, 480, 5, 144, 30, 5535, 18, 51, 36, 28, 224, 92, 25, 104, 4, 226, 65, 16, 38, 1334, 88, 12, 16, 283, 5, 16, 4472, 113, 103, 32, 15, 16, 5345, 19, 178, 32]\n",
      "Yorum Kelime Sayısı :  218\n"
     ]
    }
   ],
   "source": [
    "# Örnek bir yorum\n",
    "yorum = X_egitim[0]\n",
    "print(\"Yorum : \", yorum)\n",
    "print(\"Yorum Kelime Sayısı : \", len(yorum))"
   ]
  },
  {
   "cell_type": "markdown",
   "metadata": {},
   "source": [
    "### Kelime Sayısı"
   ]
  },
  {
   "cell_type": "code",
   "execution_count": 11,
   "metadata": {},
   "outputs": [
    {
     "name": "stdout",
     "output_type": "stream",
     "text": [
      "Kelime Sayısı :  88584\n"
     ]
    }
   ],
   "source": [
    "# Kelime Sayısı\n",
    "word_index = imdb.get_word_index()\n",
    "print(\"Kelime Sayısı : \", len(word_index))"
   ]
  },
  {
   "cell_type": "markdown",
   "metadata": {},
   "source": [
    "### Kelimelerin anlamlandırılması"
   ]
  },
  {
   "cell_type": "code",
   "execution_count": 12,
   "metadata": {},
   "outputs": [
    {
     "name": "stdout",
     "output_type": "stream",
     "text": [
      "the\n"
     ]
    }
   ],
   "source": [
    "# Veri içindeki keimelerin anlamlandırılması\n",
    "for keys, values in word_index.items():\n",
    "    if values == 1: # 1 - 14 - 22 olabilir.\n",
    "        print(keys) "
   ]
  },
  {
   "cell_type": "markdown",
   "metadata": {},
   "source": [
    "### Yapılan yorumlar için bir fonksiyon"
   ]
  },
  {
   "cell_type": "code",
   "execution_count": 13,
   "metadata": {},
   "outputs": [
    {
     "name": "stdout",
     "output_type": "stream",
     "text": [
      "Yorum :  36\n",
      "! sorry i just didn't find the subject matter as compelling as the filmmaker did the robot guy and the mole rat guy were pretty interesting although morris didn't really tell us much about them the other two subjects were a bore and the supposed connections between them didn't hold up\n",
      "\n",
      "Olumsuz\n",
      "\n"
     ]
    }
   ],
   "source": [
    "# Yapılan yorumlar için fonksiyon\n",
    "def neSoyledi(index = 24):\n",
    "    # index, eğitim setinden buluna yorumun indeksi\n",
    "    ters_indeks = dict([(value, key) for (key, value) in word_index.items()])\n",
    "    yorumu_coz = \" \".join([ters_indeks.get(i - 3, \"!\") for i in X_egitim[index]])\n",
    "    print(\"Yorum : \", index)\n",
    "    print(yorumu_coz)\n",
    "    print()\n",
    "    if Y_egitim[index] == 0:\n",
    "        print(\"Olumsuz\")\n",
    "    else:\n",
    "        print(\"Olumlu\")\n",
    "    print()\n",
    "\n",
    "# 36. yorum\n",
    "neSoyledi(36)"
   ]
  },
  {
   "cell_type": "markdown",
   "metadata": {},
   "source": [
    "### En çok kullanılan 15.000 kelime ile işlem yapalım"
   ]
  },
  {
   "cell_type": "code",
   "execution_count": 14,
   "metadata": {},
   "outputs": [],
   "source": [
    "# en çok kullanılan 15000 kelime ile işlem yapalım.\n",
    "num_words = 15000\n",
    "(X_egitim, Y_egitim), (X_test, Y_test) = imdb.load_data(num_words = num_words)"
   ]
  },
  {
   "cell_type": "markdown",
   "metadata": {},
   "source": [
    "### Yorumları 130 kelime ile sınırlayıp, sabitleyelim."
   ]
  },
  {
   "cell_type": "code",
   "execution_count": 15,
   "metadata": {},
   "outputs": [
    {
     "name": "stdout",
     "output_type": "stream",
     "text": [
      "[   0    0    0    0    0    0    0    0    0    0    0    0    0    0\n",
      "    0    0    0    0    0    0    0    0    0    0    0    0    0    0\n",
      "    0    0    0    0    0    0    0    0    0    0    0    0    0    0\n",
      "    0    0    0    0    0    0    0    0    0    0    0    0    0    0\n",
      "    0    0    0    0    0    0    0    0    0    0    0    0    0    0\n",
      "    0    0    0    0    0    0    0    0    0    0    0    0    0    0\n",
      "    0    0    0    1  778  128   74   12  630  163   15    4 1766 7982\n",
      " 1051    2   32   85  156   45   40  148  139  121  664  665   10   10\n",
      " 1361  173    4  749    2   16 3804    8    4  226   65   12   43  127\n",
      "   24    2   10   10]\n"
     ]
    }
   ],
   "source": [
    "# Yorumları max. 130 kelime ile sınırla\n",
    "# tekrarlanan sinir ağlarında girdi boyu sabit olmalı\n",
    "maxlen = 130\n",
    "X_egitim = pad_sequences(X_egitim, maxlen = maxlen)\n",
    "X_test = pad_sequences(X_test, maxlen = maxlen)\n",
    "print(X_egitim[5])"
   ]
  },
  {
   "cell_type": "markdown",
   "metadata": {},
   "source": [
    "### RNN Oluşturalım"
   ]
  },
  {
   "cell_type": "code",
   "execution_count": 16,
   "metadata": {},
   "outputs": [
    {
     "name": "stdout",
     "output_type": "stream",
     "text": [
      "Model: \"sequential\"\n",
      "_________________________________________________________________\n",
      " Layer (type)                Output Shape              Param #   \n",
      "=================================================================\n",
      " embedding (Embedding)       (None, 130, 32)           480000    \n",
      "                                                                 \n",
      " simple_rnn (SimpleRNN)      (None, 16)                784       \n",
      "                                                                 \n",
      " dense (Dense)               (None, 1)                 17        \n",
      "                                                                 \n",
      " activation (Activation)     (None, 1)                 0         \n",
      "                                                                 \n",
      "=================================================================\n",
      "Total params: 480,801\n",
      "Trainable params: 480,801\n",
      "Non-trainable params: 0\n",
      "_________________________________________________________________\n",
      "None\n"
     ]
    }
   ],
   "source": [
    "# RNN temelini oluşturalım\n",
    "rnn = Sequential()\n",
    "rnn.add(Embedding(num_words, 32, input_length = len(X_egitim[0])))\n",
    "# pozitif tam sayıları sabit boyutlu vektöre dönüştür.\n",
    "rnn.add(SimpleRNN(16, input_shape = (num_words, maxlen), \n",
    "    return_sequences = False, activation = \"relu\"))\n",
    "rnn.add(Dense(1))\n",
    "rnn.add(Activation(\"sigmoid\"))\n",
    "print(rnn.summary())"
   ]
  },
  {
   "cell_type": "markdown",
   "metadata": {},
   "source": [
    "### Modeli derleyelim"
   ]
  },
  {
   "cell_type": "code",
   "execution_count": 17,
   "metadata": {},
   "outputs": [],
   "source": [
    "# Modeli derleyelim.\n",
    "rnn.compile(loss = \"binary_crossentropy\", optimizer = \"rmsprop\",\n",
    "    metrics = [\"accuracy\"])"
   ]
  },
  {
   "cell_type": "markdown",
   "metadata": {},
   "source": [
    "### RNN Eğitimi"
   ]
  },
  {
   "cell_type": "code",
   "execution_count": 18,
   "metadata": {},
   "outputs": [
    {
     "name": "stdout",
     "output_type": "stream",
     "text": [
      "Epoch 1/5\n",
      "196/196 [==============================] - 10s 47ms/step - loss: 0.6217 - accuracy: 0.6589 - val_loss: 0.6851 - val_accuracy: 0.6303\n",
      "Epoch 2/5\n",
      "196/196 [==============================] - 9s 44ms/step - loss: 0.4065 - accuracy: 0.8242 - val_loss: 0.3506 - val_accuracy: 0.8460\n",
      "Epoch 3/5\n",
      "196/196 [==============================] - 9s 44ms/step - loss: 0.2990 - accuracy: 0.8765 - val_loss: 0.3593 - val_accuracy: 0.8471\n",
      "Epoch 4/5\n",
      "196/196 [==============================] - 9s 45ms/step - loss: 0.2448 - accuracy: 0.9034 - val_loss: 0.5266 - val_accuracy: 0.8047\n",
      "Epoch 5/5\n",
      "196/196 [==============================] - 9s 46ms/step - loss: 0.2109 - accuracy: 0.9182 - val_loss: 0.3897 - val_accuracy: 0.8445\n"
     ]
    }
   ],
   "source": [
    "# RNN Eğitimi\n",
    "tarih = rnn.fit(X_egitim, Y_egitim, validation_data = (X_test, Y_test), \n",
    "    epochs = 5, batch_size = 128, verbose = 1)"
   ]
  },
  {
   "cell_type": "markdown",
   "metadata": {},
   "source": [
    "### Doğruluk"
   ]
  },
  {
   "cell_type": "code",
   "execution_count": 19,
   "metadata": {},
   "outputs": [
    {
     "name": "stdout",
     "output_type": "stream",
     "text": [
      "782/782 [==============================] - 5s 6ms/step - loss: 0.3897 - accuracy: 0.8445\n",
      "Test doğruluk : % 84.44799780845642\n"
     ]
    }
   ],
   "source": [
    "# Doğruluk\n",
    "dogruluk = rnn.evaluate(X_test, Y_test)\n",
    "print(\"Test doğruluk : %\", dogruluk[1] * 100)"
   ]
  },
  {
   "cell_type": "markdown",
   "metadata": {},
   "source": [
    "### Doğruluğu görselleştirelim"
   ]
  },
  {
   "cell_type": "code",
   "execution_count": 20,
   "metadata": {},
   "outputs": [
    {
     "data": {
      "image/png": "[encoded data removed]",
      "text/plain": [
       "<Figure size 432x288 with 1 Axes>"
      ]
     },
     "metadata": {
      "needs_background": "light"
     },
     "output_type": "display_data"
    }
   ],
   "source": [
    "# Doğruluğu görselleştirelim.\n",
    "plt.figure()\n",
    "plt.plot(tarih.history[\"accuracy\"], label = \"Eğitim\")\n",
    "plt.plot(tarih.history[\"val_accuracy\"], label = \"test\")\n",
    "plt.title(\"Doğruluk\")\n",
    "plt.ylabel(\"Doğruluk\")\n",
    "plt.xlabel(\"İterasyon\")\n",
    "plt.legend()\n",
    "plt.show()"
   ]
  },
  {
   "cell_type": "markdown",
   "metadata": {},
   "source": [
    "### Maliyeti görselleştirelim"
   ]
  },
  {
   "cell_type": "code",
   "execution_count": 21,
   "metadata": {},
   "outputs": [
    {
     "data": {
      "image/png": "[encoded data removed]",
      "text/plain": [
       "<Figure size 432x288 with 1 Axes>"
      ]
     },
     "metadata": {
      "needs_background": "light"
     },
     "output_type": "display_data"
    }
   ],
   "source": [
    "# Maliyeti görselleştirelim.\n",
    "plt.figure()\n",
    "plt.plot(tarih.history[\"loss\"], label = \"Eğitim\")\n",
    "plt.plot(tarih.history[\"val_loss\"], label = \"Test\")\n",
    "plt.title(\"Maliyet\")\n",
    "plt.ylabel(\"Maliyet\")\n",
    "plt.xlabel(\"İterasyon\")\n",
    "plt.legend()\n",
    "plt.show()"
   ]
  }
 ],
 "metadata": {
  "interpreter": {
   "hash": "df0bdd44f3282c8b0fb7a07242e441c802c76eac2f190fb5c82b8993c3ec7e7e"
  },
  "kernelspec": {
   "display_name": "Python 3.8.8 64-bit ('base': conda)",
   "name": "python3"
  },
  "language_info": {
   "codemirror_mode": {
    "name": "ipython",
    "version": 3
   },
   "file_extension": ".py",
   "mimetype": "text/x-python",
   "name": "python",
   "nbconvert_exporter": "python",
   "pygments_lexer": "ipython3",
   "version": "3.9.7"
  },
  "orig_nbformat": 4
 },
 "nbformat": 4,
 "nbformat_minor": 2
}
