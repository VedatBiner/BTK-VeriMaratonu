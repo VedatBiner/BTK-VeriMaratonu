{
 "cells": [
  {
   "cell_type": "markdown",
   "metadata": {},
   "source": [
    "### Doğrusal Regresyon Örneği"
   ]
  },
  {
   "cell_type": "code",
   "execution_count": 1,
   "metadata": {},
   "outputs": [],
   "source": [
    "# Kütüphaneler yükleyelim.\n",
    "import numpy as np\n",
    "import matplotlib.pyplot as plt\n",
    "import pandas as pd\n",
    "\n",
    "# sklearn Doğrusal Regresyon Kütüphanesi\n",
    "from sklearn.linear_model import LinearRegression"
   ]
  },
  {
   "cell_type": "code",
   "execution_count": 2,
   "metadata": {},
   "outputs": [
    {
     "data": {
      "text/html": [
       "<div>\n",
       "<style scoped>\n",
       "    .dataframe tbody tr th:only-of-type {\n",
       "        vertical-align: middle;\n",
       "    }\n",
       "\n",
       "    .dataframe tbody tr th {\n",
       "        vertical-align: top;\n",
       "    }\n",
       "\n",
       "    .dataframe thead th {\n",
       "        text-align: right;\n",
       "    }\n",
       "</style>\n",
       "<table border=\"1\" class=\"dataframe\">\n",
       "  <thead>\n",
       "    <tr style=\"text-align: right;\">\n",
       "      <th></th>\n",
       "      <th>deneyim</th>\n",
       "      <th>maas</th>\n",
       "    </tr>\n",
       "  </thead>\n",
       "  <tbody>\n",
       "    <tr>\n",
       "      <th>0</th>\n",
       "      <td>0.5</td>\n",
       "      <td>2500</td>\n",
       "    </tr>\n",
       "    <tr>\n",
       "      <th>1</th>\n",
       "      <td>0.0</td>\n",
       "      <td>2250</td>\n",
       "    </tr>\n",
       "    <tr>\n",
       "      <th>2</th>\n",
       "      <td>1.0</td>\n",
       "      <td>2750</td>\n",
       "    </tr>\n",
       "    <tr>\n",
       "      <th>3</th>\n",
       "      <td>5.0</td>\n",
       "      <td>8000</td>\n",
       "    </tr>\n",
       "    <tr>\n",
       "      <th>4</th>\n",
       "      <td>8.0</td>\n",
       "      <td>9000</td>\n",
       "    </tr>\n",
       "  </tbody>\n",
       "</table>\n",
       "</div>"
      ],
      "text/plain": [
       "   deneyim  maas\n",
       "0      0.5  2500\n",
       "1      0.0  2250\n",
       "2      1.0  2750\n",
       "3      5.0  8000\n",
       "4      8.0  9000"
      ]
     },
     "execution_count": 2,
     "metadata": {},
     "output_type": "execute_result"
    }
   ],
   "source": [
    "# veriyi okuyalım.\n",
    "df = pd.read_csv(\"dogrusal_regresyon_veriseti.csv\", sep = \";\")\n",
    "df.head()"
   ]
  },
  {
   "cell_type": "code",
   "execution_count": 3,
   "metadata": {},
   "outputs": [
    {
     "data": {
      "image/png": "[encoded data removed]",
      "text/plain": [
       "<Figure size 432x288 with 1 Axes>"
      ]
     },
     "metadata": {
      "needs_background": "light"
     },
     "output_type": "display_data"
    }
   ],
   "source": [
    "# veriyi görselleştirelim\n",
    "plt.scatter(df.deneyim, df.maas)\n",
    "plt.xlabel(\"Deneyim (Yıl)\")\n",
    "plt.ylabel(\"Maaş (TL)\")\n",
    "plt.title(\" Deneyim Maaş İlişkisi\")\n",
    "plt.grid(True)\n",
    "plt.show()"
   ]
  },
  {
   "cell_type": "code",
   "execution_count": 6,
   "metadata": {},
   "outputs": [
    {
     "data": {
      "text/plain": [
       "LinearRegression()"
      ]
     },
     "execution_count": 6,
     "metadata": {},
     "output_type": "execute_result"
    }
   ],
   "source": [
    "# Doğrusal Regresyon Modeli Eğitimi \n",
    "linear_reg = LinearRegression()\n",
    "\n",
    "# maas ve deneyim sütunlarını numpy array yapalım.\n",
    "x = df.deneyim.values.reshape(-1, 1)\n",
    "y = df.maas.values.reshape(-1, 1)\n",
    "\n",
    "# doğrusal regresyon eğitimi\n",
    "linear_reg.fit(x, y)"
   ]
  },
  {
   "cell_type": "code",
   "execution_count": 7,
   "metadata": {},
   "outputs": [
    {
     "name": "stdout",
     "output_type": "stream",
     "text": [
      "b0 :  [[1663.89519747]]\n",
      "b0_ :  [[1663.89519747]]\n",
      "b1 :  [[1138.34819698]]\n"
     ]
    }
   ],
   "source": [
    "# y eksenini kestiği nokta intercept bulunması\n",
    "y_ekseni_kesisim = np.array([0]).reshape(1, -1)\n",
    "b0 = linear_reg.predict(y_ekseni_kesisim)\n",
    "print(\"b0 : \", b0)\n",
    "\n",
    "# y ekseninin kestiği nokta (intercept) - alternatif\n",
    "b0_ = linear_reg.intercept_\n",
    "print(\"b0_ : \", b0)\n",
    "\n",
    "# eğim (slope) bulunması\n",
    "b1 = linear_reg.coef_\n",
    "print(\"b1 : \", b1)"
   ]
  },
  {
   "cell_type": "code",
   "execution_count": 9,
   "metadata": {},
   "outputs": [
    {
     "name": "stdout",
     "output_type": "stream",
     "text": [
      "14181\n",
      "11 yıllık deneyime sahip personelin maaşı : [14185.72536421] TL\n"
     ]
    }
   ],
   "source": [
    "# farklı deneyimler için ne kadar maaş alınacağının tahmini\n",
    "# maas = 1663 + 1138 * deneyim\n",
    "deneyim = 11 # 11 yıllık deneyim\n",
    "# normal hesap\n",
    "maas_yeni = 1663 + 1138 * deneyim\n",
    "print(maas_yeni)\n",
    "# tahmin\n",
    "sonuc = linear_reg.predict(np.array([deneyim]).reshape(1, -1))\n",
    "print(\"11 yıllık deneyime sahip personelin maaşı : {} TL\".format(sonuc[0]))"
   ]
  },
  {
   "cell_type": "code",
   "execution_count": 10,
   "metadata": {},
   "outputs": [
    {
     "data": {
      "image/png": "[encoded data removed]",
      "text/plain": [
       "<Figure size 432x288 with 1 Axes>"
      ]
     },
     "metadata": {
      "needs_background": "light"
     },
     "output_type": "display_data"
    }
   ],
   "source": [
    "# Doğrusal Regresyon ile test/tahmin/görselleştirme\n",
    "array = np.array([0, 1, 2, 3, 4, 5, 6, 7, 8, 9, 10, 11, 12, 13, 14, 15]).reshape(-1, 1)\n",
    "plt.figure()\n",
    "plt.scatter(x, y)\n",
    "\n",
    "# 0-15 yııları arası personelin maaşı tahmin edilir.\n",
    "y_head = linear_reg.predict(array)\n",
    "\n",
    "plt.plot(array, y_head, color = \"red\")\n",
    "plt.xlabel(\"Deneyim (Yıl)\")\n",
    "plt.ylabel(\"Maaş (TL)\")\n",
    "plt.title(\"Deneyim Maaş İlişkisi\")\n",
    "plt.grid(True)\n",
    "plt.show()"
   ]
  }
 ],
 "metadata": {
  "interpreter": {
   "hash": "df0bdd44f3282c8b0fb7a07242e441c802c76eac2f190fb5c82b8993c3ec7e7e"
  },
  "kernelspec": {
   "display_name": "Python 3.8.8 64-bit ('base': conda)",
   "name": "python3"
  },
  "language_info": {
   "codemirror_mode": {
    "name": "ipython",
    "version": 3
   },
   "file_extension": ".py",
   "mimetype": "text/x-python",
   "name": "python",
   "nbconvert_exporter": "python",
   "pygments_lexer": "ipython3",
   "version": "3.9.7"
  },
  "orig_nbformat": 4
 },
 "nbformat": 4,
 "nbformat_minor": 2
}
