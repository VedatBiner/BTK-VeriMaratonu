{
 "cells": [
  {
   "cell_type": "markdown",
   "metadata": {},
   "source": [
    "## Tekrarlayan Sinir Ağları (RNN) Örneği"
   ]
  },
  {
   "cell_type": "markdown",
   "metadata": {},
   "source": [
    "### Kütüphanelerin yüklenmesi"
   ]
  },
  {
   "cell_type": "code",
   "execution_count": 47,
   "metadata": {},
   "outputs": [],
   "source": [
    "# Kütüphaneler\n",
    "import numpy as np\n",
    "import pandas as pd\n",
    "import matplotlib.pyplot as plt\n",
    "\n",
    "# uyarıları kapatalım\n",
    "import warnings\n",
    "warnings.filterwarnings(\"ignore\")"
   ]
  },
  {
   "cell_type": "markdown",
   "metadata": {},
   "source": [
    "### Verileri Yükleyelim"
   ]
  },
  {
   "cell_type": "code",
   "execution_count": 48,
   "metadata": {},
   "outputs": [
    {
     "data": {
      "text/html": [
       "<div>\n",
       "<style scoped>\n",
       "    .dataframe tbody tr th:only-of-type {\n",
       "        vertical-align: middle;\n",
       "    }\n",
       "\n",
       "    .dataframe tbody tr th {\n",
       "        vertical-align: top;\n",
       "    }\n",
       "\n",
       "    .dataframe thead th {\n",
       "        text-align: right;\n",
       "    }\n",
       "</style>\n",
       "<table border=\"1\" class=\"dataframe\">\n",
       "  <thead>\n",
       "    <tr style=\"text-align: right;\">\n",
       "      <th></th>\n",
       "      <th>Month</th>\n",
       "      <th>International airline passengers: monthly totals in thousands. Jan 49 ? Dec 60</th>\n",
       "    </tr>\n",
       "  </thead>\n",
       "  <tbody>\n",
       "    <tr>\n",
       "      <th>0</th>\n",
       "      <td>1949-01</td>\n",
       "      <td>112.0</td>\n",
       "    </tr>\n",
       "    <tr>\n",
       "      <th>1</th>\n",
       "      <td>1949-02</td>\n",
       "      <td>118.0</td>\n",
       "    </tr>\n",
       "    <tr>\n",
       "      <th>2</th>\n",
       "      <td>1949-03</td>\n",
       "      <td>132.0</td>\n",
       "    </tr>\n",
       "    <tr>\n",
       "      <th>3</th>\n",
       "      <td>1949-04</td>\n",
       "      <td>129.0</td>\n",
       "    </tr>\n",
       "    <tr>\n",
       "      <th>4</th>\n",
       "      <td>1949-05</td>\n",
       "      <td>121.0</td>\n",
       "    </tr>\n",
       "  </tbody>\n",
       "</table>\n",
       "</div>"
      ],
      "text/plain": [
       "     Month  \\\n",
       "0  1949-01   \n",
       "1  1949-02   \n",
       "2  1949-03   \n",
       "3  1949-04   \n",
       "4  1949-05   \n",
       "\n",
       "   International airline passengers: monthly totals in thousands. Jan 49 ? Dec 60  \n",
       "0                                              112.0                               \n",
       "1                                              118.0                               \n",
       "2                                              132.0                               \n",
       "3                                              129.0                               \n",
       "4                                              121.0                               "
      ]
     },
     "execution_count": 48,
     "metadata": {},
     "output_type": "execute_result"
    }
   ],
   "source": [
    "# Veriyi içeri alalım\n",
    "veri = pd.read_csv(\"/DATA/datasets/uluslararasi_havayolu_yolculari.csv\")\n",
    "veri.head()"
   ]
  },
  {
   "cell_type": "markdown",
   "metadata": {},
   "source": [
    "### Verileri Görselleştirelim."
   ]
  },
  {
   "cell_type": "code",
   "execution_count": 49,
   "metadata": {},
   "outputs": [
    {
     "data": {
      "image/png": "[encoded data removed]",
      "text/plain": [
       "<Figure size 432x288 with 1 Axes>"
      ]
     },
     "metadata": {
      "needs_background": "light"
     },
     "output_type": "display_data"
    }
   ],
   "source": [
    "# veriyi görselleştirelim\n",
    "veri = veri.iloc[:, 1].values\n",
    "plt.plot(veri)\n",
    "plt.xlabel(\"Zaman\")\n",
    "plt.ylabel(\"Yolcu Sayısı\")\n",
    "plt.title(\"Uluslararası Hava Yolu Yolcuları\")\n",
    "plt.show()"
   ]
  },
  {
   "cell_type": "markdown",
   "metadata": {},
   "source": [
    "### Verinin Şeklini ve Tipini Değiştirelim"
   ]
  },
  {
   "cell_type": "code",
   "execution_count": 50,
   "metadata": {},
   "outputs": [
    {
     "data": {
      "text/plain": [
       "(145, 1)"
      ]
     },
     "execution_count": 50,
     "metadata": {},
     "output_type": "execute_result"
    }
   ],
   "source": [
    "# verinin şeklini değiştirelim.\n",
    "veri = veri.reshape(-1, 1)\n",
    "veri = veri.astype(\"float32\")\n",
    "veri.shape"
   ]
  },
  {
   "cell_type": "markdown",
   "metadata": {},
   "source": [
    "### Veriyi Normalize Edelim"
   ]
  },
  {
   "cell_type": "code",
   "execution_count": 51,
   "metadata": {},
   "outputs": [
    {
     "data": {
      "text/plain": [
       "array([[0.01544401],\n",
       "       [0.02702703],\n",
       "       [0.05405405],\n",
       "       [0.04826255]], dtype=float32)"
      ]
     },
     "execution_count": 51,
     "metadata": {},
     "output_type": "execute_result"
    }
   ],
   "source": [
    "# normalize edelim.\n",
    "from sklearn.preprocessing import MinMaxScaler\n",
    "scaler = MinMaxScaler(feature_range = (0, 1))\n",
    "veri_scaled = scaler.fit_transform(veri)\n",
    "veri_scaled[:4]"
   ]
  },
  {
   "cell_type": "markdown",
   "metadata": {},
   "source": [
    "### Verinin test ve train olarak bölünmesi"
   ]
  },
  {
   "cell_type": "code",
   "execution_count": 52,
   "metadata": {},
   "outputs": [
    {
     "name": "stdout",
     "output_type": "stream",
     "text": [
      "Eğitim Boyu : 87, Test Boyu : 58 \n"
     ]
    }
   ],
   "source": [
    "# veriyi eğitim ve test olarak bölelim\n",
    "egitim_boyu = int(len(veri) * 0.60)\n",
    "test_boyu = len(veri) - egitim_boyu\n",
    "egitim = veri_scaled[0:egitim_boyu, :]\n",
    "test = veri_scaled[egitim_boyu:len(veri), :]\n",
    "print(\"Eğitim Boyu : {}, Test Boyu : {} \".format(len(egitim), len(test)))"
   ]
  },
  {
   "cell_type": "markdown",
   "metadata": {},
   "source": [
    "### Eğitim verisinin 10 arlı Olarak Yeniden Şekillendirilmesi"
   ]
  },
  {
   "cell_type": "code",
   "execution_count": 53,
   "metadata": {},
   "outputs": [],
   "source": [
    "# Eğitim verisini 10'arlı şekillendirelim.\n",
    "time_stemp = 10\n",
    "dataX = []\n",
    "dataY = []\n",
    "for i in range(len(egitim) - time_stemp - 1):\n",
    "    a = egitim[i:(i + time_stemp), 0]\n",
    "    dataX.append(a)\n",
    "    dataY.append(egitim[i + time_stemp, 0])\n",
    "egitimX = np.array(dataX)\n",
    "egitimY = np.array(dataY)"
   ]
  },
  {
   "cell_type": "markdown",
   "metadata": {},
   "source": [
    "### Test verisinin 10 arlı Olarak Yeniden Şekillendirilmesi"
   ]
  },
  {
   "cell_type": "code",
   "execution_count": 54,
   "metadata": {},
   "outputs": [],
   "source": [
    "# test verisini 10'arlı şekillendirelim.\n",
    "dataX = []\n",
    "dataY = []\n",
    "for i in range(len(test) - time_stemp - 1):\n",
    "    a = test[i:(i + time_stemp), 0]\n",
    "    dataX.append(a)\n",
    "    dataY.append(test[i + time_stemp, 0])\n",
    "testX = np.array(dataX)\n",
    "testY = np.array(dataY)"
   ]
  },
  {
   "cell_type": "markdown",
   "metadata": {},
   "source": [
    "### Veriyi Keras İçin Uygun Hale Getirelim"
   ]
  },
  {
   "cell_type": "code",
   "execution_count": 55,
   "metadata": {},
   "outputs": [
    {
     "name": "stdout",
     "output_type": "stream",
     "text": [
      "Eğitim X şekli :  (76, 10, 1)\n",
      "Test X şekli :  (47, 10, 1)\n"
     ]
    }
   ],
   "source": [
    "# veriyi Keras için uygun hale getirelim.\n",
    "egitimX = np.reshape(egitimX, (egitimX.shape[0], egitimX.shape[1], 1))\n",
    "testX = np.reshape(testX, (testX.shape[0], testX.shape[1], 1))\n",
    "print(\"Eğitim X şekli : \", egitimX.shape)\n",
    "print(\"Test X şekli : \", testX.shape)"
   ]
  },
  {
   "cell_type": "markdown",
   "metadata": {},
   "source": [
    "### Gerekli RNN Kütüphanelerini Yükleyelim"
   ]
  },
  {
   "cell_type": "code",
   "execution_count": 56,
   "metadata": {},
   "outputs": [],
   "source": [
    "# Keras kütüphaneleri\n",
    "from keras.models import Sequential\n",
    "from keras.layers import Dense\n",
    "from keras.layers import SimpleRNN\n",
    "from keras.layers import Dropout"
   ]
  },
  {
   "cell_type": "markdown",
   "metadata": {},
   "source": [
    "### Modelleme"
   ]
  },
  {
   "cell_type": "code",
   "execution_count": 57,
   "metadata": {},
   "outputs": [
    {
     "data": {
      "text/plain": [
       "<keras.callbacks.History at 0x243b7828f40>"
      ]
     },
     "execution_count": 57,
     "metadata": {},
     "output_type": "execute_result"
    }
   ],
   "source": [
    "# Modelleme\n",
    "# RNN temelini oluştur\n",
    "regressor = Sequential()\n",
    "\n",
    "# ilk katman ve drop out katmanı\n",
    "regressor.add(SimpleRNN(units = 120, activation = \"relu\", \n",
    "    return_sequences = True, input_shape = (egitimX.shape[1], 1)))\n",
    "regressor.add(Dropout(0.2))\n",
    "\n",
    "# İkinci Katman ve drop out Katmanı\n",
    "regressor.add(SimpleRNN(units = 80, activation = \"relu\", return_sequences = True))\n",
    "regressor.add(Dropout(0.2))\n",
    "\n",
    "# Üçüncü Katman ve drop out Katmanı\n",
    "regressor.add(SimpleRNN(units = 40, activation = \"relu\", return_sequences = True))\n",
    "regressor.add(Dropout(0.2))\n",
    "\n",
    "# Dördüncü Katman ve drop out Katmanı\n",
    "regressor.add(SimpleRNN(units = 20, activation = \"relu\", return_sequences = True))\n",
    "regressor.add(Dropout(0.2))\n",
    "\n",
    "# Beşinci Katman ve drop out Katmanı\n",
    "# Aşağıdaki satır hata verdi. Altındaki satır gibi değiştirdim.\n",
    "# regressor.add(SimpleRNN(units = 10, activation = \"relu\", return_sequences = True))\n",
    "regressor.add(SimpleRNN(units = 10, activation = \"relu\", return_sequences = False))\n",
    "regressor.add(Dropout(0.2))\n",
    "\n",
    "# tek bir çıktı olacak\n",
    "regressor.add(Dense(units = 1))\n",
    "\n",
    "# derleyelim\n",
    "regressor.compile(optimizer = \"adam\", loss = \"mean_squared_error\")\n",
    "\n",
    "# Eğitim başlasın\n",
    "regressor.fit(egitimX, egitimY, epochs = 250, batch_size = 50, verbose = 0)\n"
   ]
  },
  {
   "cell_type": "markdown",
   "metadata": {},
   "source": [
    "### Tahminleme ve Modelin Değerlendirilmesi"
   ]
  },
  {
   "cell_type": "code",
   "execution_count": 60,
   "metadata": {},
   "outputs": [],
   "source": [
    "# tahminler\n",
    "import math\n",
    "from sklearn.metrics import mean_squared_error\n",
    "\n",
    "egitimTahmin = regressor.predict(egitimX)\n",
    "testTahmin = regressor.predict(testX)\n",
    "\n",
    "# normalize veriyi normale çevirelim.\n",
    "egitimTahmin = scaler.inverse_transform(egitimTahmin)\n",
    "egitimY = scaler.inverse_transform([egitimY])\n",
    "testTahmin = scaler.inverse_transform(testTahmin)\n",
    "testY = scaler.inverse_transform([testY])"
   ]
  },
  {
   "cell_type": "markdown",
   "metadata": {},
   "source": [
    "### Kök Ortalama Kare Hatası"
   ]
  },
  {
   "cell_type": "code",
   "execution_count": 62,
   "metadata": {},
   "outputs": [
    {
     "name": "stdout",
     "output_type": "stream",
     "text": [
      "Eğitim Skoru : 15.21 RMSE \n",
      "Test Skoru : 37.19 RMSE \n"
     ]
    }
   ],
   "source": [
    "# Kök ortalama kare hatası\n",
    "trainScore = math.sqrt(mean_squared_error(egitimY[0], egitimTahmin[:, 0]))\n",
    "print(\"Eğitim Skoru : %.2f RMSE \" % (trainScore))\n",
    "testScore = math.sqrt(mean_squared_error(testY[0], testTahmin[:, 0]))\n",
    "print(\"Test Skoru : %.2f RMSE \" % (testScore))"
   ]
  },
  {
   "cell_type": "markdown",
   "metadata": {},
   "source": [
    "### Eğitim Verisini Kaydıralım ve Görselleştirelim"
   ]
  },
  {
   "cell_type": "code",
   "execution_count": 64,
   "metadata": {},
   "outputs": [
    {
     "data": {
      "image/png": "[encoded data removed]",
      "text/plain": [
       "<Figure size 432x288 with 1 Axes>"
      ]
     },
     "metadata": {
      "needs_background": "light"
     },
     "output_type": "display_data"
    }
   ],
   "source": [
    "# Eğitim  verisini kaydıralım\n",
    "trainPredictPlot = np.empty_like(veri)\n",
    "trainPredictPlot[:, :] = np.nan\n",
    "trainPredictPlot[time_stemp:len(egitimTahmin) + time_stemp, :] = egitimTahmin\n",
    "# test verisini kaydır\n",
    "testPredictPlot = np.empty_like(veri)\n",
    "testPredictPlot[:, :] = np.nan\n",
    "testPredictPlot[len(egitimTahmin) + (time_stemp * 2) + 1: len(veri) - 1] = testTahmin\n",
    "# Görselleştir.\n",
    "plt.plot(scaler.inverse_transform(veri_scaled), color = \"b\", label = \"Gerçek\")\n",
    "plt.plot(trainPredictPlot, color = \"r\", label = \"Egitim\")\n",
    "plt.plot(testPredictPlot, color = \"g\", label = \"Test\")\n",
    "plt.legend()\n",
    "plt.show()"
   ]
  }
 ],
 "metadata": {
  "interpreter": {
   "hash": "df0bdd44f3282c8b0fb7a07242e441c802c76eac2f190fb5c82b8993c3ec7e7e"
  },
  "kernelspec": {
   "display_name": "Python 3.8.8 64-bit ('base': conda)",
   "name": "python3"
  },
  "language_info": {
   "codemirror_mode": {
    "name": "ipython",
    "version": 3
   },
   "file_extension": ".py",
   "mimetype": "text/x-python",
   "name": "python",
   "nbconvert_exporter": "python",
   "pygments_lexer": "ipython3",
   "version": "3.9.7"
  },
  "orig_nbformat": 4
 },
 "nbformat": 4,
 "nbformat_minor": 2
}
