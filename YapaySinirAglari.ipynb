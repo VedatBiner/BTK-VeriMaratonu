{
 "cells": [
  {
   "cell_type": "markdown",
   "metadata": {},
   "source": [
    "## Yapay Sinir Ağları Örneği"
   ]
  },
  {
   "cell_type": "code",
   "execution_count": 1,
   "metadata": {},
   "outputs": [],
   "source": [
    "# Kütüphaneler\n",
    "import numpy as np\n",
    "import pandas as pd\n",
    "import matplotlib.pyplot as plt\n",
    "import seaborn as sns\n",
    "\n",
    "# uyarıları kapatalım.\n",
    "import warnings\n",
    "warnings.filterwarnings(\"ignore\")\n",
    "\n",
    "# derin öğrenmede keras olacak ama sklearn ile train ve test böleceğiz\n",
    "from sklearn.model_selection import train_test_split"
   ]
  },
  {
   "cell_type": "code",
   "execution_count": 2,
   "metadata": {},
   "outputs": [
    {
     "name": "stdout",
     "output_type": "stream",
     "text": [
      "Veri boyutu :  (60000, 785)\n"
     ]
    },
    {
     "data": {
      "text/html": [
       "<div>\n",
       "<style scoped>\n",
       "    .dataframe tbody tr th:only-of-type {\n",
       "        vertical-align: middle;\n",
       "    }\n",
       "\n",
       "    .dataframe tbody tr th {\n",
       "        vertical-align: top;\n",
       "    }\n",
       "\n",
       "    .dataframe thead th {\n",
       "        text-align: right;\n",
       "    }\n",
       "</style>\n",
       "<table border=\"1\" class=\"dataframe\">\n",
       "  <thead>\n",
       "    <tr style=\"text-align: right;\">\n",
       "      <th></th>\n",
       "      <th>label</th>\n",
       "      <th>1x1</th>\n",
       "      <th>1x2</th>\n",
       "      <th>1x3</th>\n",
       "      <th>1x4</th>\n",
       "      <th>1x5</th>\n",
       "      <th>1x6</th>\n",
       "      <th>1x7</th>\n",
       "      <th>1x8</th>\n",
       "      <th>1x9</th>\n",
       "      <th>...</th>\n",
       "      <th>28x19</th>\n",
       "      <th>28x20</th>\n",
       "      <th>28x21</th>\n",
       "      <th>28x22</th>\n",
       "      <th>28x23</th>\n",
       "      <th>28x24</th>\n",
       "      <th>28x25</th>\n",
       "      <th>28x26</th>\n",
       "      <th>28x27</th>\n",
       "      <th>28x28</th>\n",
       "    </tr>\n",
       "  </thead>\n",
       "  <tbody>\n",
       "    <tr>\n",
       "      <th>0</th>\n",
       "      <td>5</td>\n",
       "      <td>0</td>\n",
       "      <td>0</td>\n",
       "      <td>0</td>\n",
       "      <td>0</td>\n",
       "      <td>0</td>\n",
       "      <td>0</td>\n",
       "      <td>0</td>\n",
       "      <td>0</td>\n",
       "      <td>0</td>\n",
       "      <td>...</td>\n",
       "      <td>0</td>\n",
       "      <td>0</td>\n",
       "      <td>0</td>\n",
       "      <td>0</td>\n",
       "      <td>0</td>\n",
       "      <td>0</td>\n",
       "      <td>0</td>\n",
       "      <td>0</td>\n",
       "      <td>0</td>\n",
       "      <td>0</td>\n",
       "    </tr>\n",
       "    <tr>\n",
       "      <th>1</th>\n",
       "      <td>0</td>\n",
       "      <td>0</td>\n",
       "      <td>0</td>\n",
       "      <td>0</td>\n",
       "      <td>0</td>\n",
       "      <td>0</td>\n",
       "      <td>0</td>\n",
       "      <td>0</td>\n",
       "      <td>0</td>\n",
       "      <td>0</td>\n",
       "      <td>...</td>\n",
       "      <td>0</td>\n",
       "      <td>0</td>\n",
       "      <td>0</td>\n",
       "      <td>0</td>\n",
       "      <td>0</td>\n",
       "      <td>0</td>\n",
       "      <td>0</td>\n",
       "      <td>0</td>\n",
       "      <td>0</td>\n",
       "      <td>0</td>\n",
       "    </tr>\n",
       "    <tr>\n",
       "      <th>2</th>\n",
       "      <td>4</td>\n",
       "      <td>0</td>\n",
       "      <td>0</td>\n",
       "      <td>0</td>\n",
       "      <td>0</td>\n",
       "      <td>0</td>\n",
       "      <td>0</td>\n",
       "      <td>0</td>\n",
       "      <td>0</td>\n",
       "      <td>0</td>\n",
       "      <td>...</td>\n",
       "      <td>0</td>\n",
       "      <td>0</td>\n",
       "      <td>0</td>\n",
       "      <td>0</td>\n",
       "      <td>0</td>\n",
       "      <td>0</td>\n",
       "      <td>0</td>\n",
       "      <td>0</td>\n",
       "      <td>0</td>\n",
       "      <td>0</td>\n",
       "    </tr>\n",
       "    <tr>\n",
       "      <th>3</th>\n",
       "      <td>1</td>\n",
       "      <td>0</td>\n",
       "      <td>0</td>\n",
       "      <td>0</td>\n",
       "      <td>0</td>\n",
       "      <td>0</td>\n",
       "      <td>0</td>\n",
       "      <td>0</td>\n",
       "      <td>0</td>\n",
       "      <td>0</td>\n",
       "      <td>...</td>\n",
       "      <td>0</td>\n",
       "      <td>0</td>\n",
       "      <td>0</td>\n",
       "      <td>0</td>\n",
       "      <td>0</td>\n",
       "      <td>0</td>\n",
       "      <td>0</td>\n",
       "      <td>0</td>\n",
       "      <td>0</td>\n",
       "      <td>0</td>\n",
       "    </tr>\n",
       "    <tr>\n",
       "      <th>4</th>\n",
       "      <td>9</td>\n",
       "      <td>0</td>\n",
       "      <td>0</td>\n",
       "      <td>0</td>\n",
       "      <td>0</td>\n",
       "      <td>0</td>\n",
       "      <td>0</td>\n",
       "      <td>0</td>\n",
       "      <td>0</td>\n",
       "      <td>0</td>\n",
       "      <td>...</td>\n",
       "      <td>0</td>\n",
       "      <td>0</td>\n",
       "      <td>0</td>\n",
       "      <td>0</td>\n",
       "      <td>0</td>\n",
       "      <td>0</td>\n",
       "      <td>0</td>\n",
       "      <td>0</td>\n",
       "      <td>0</td>\n",
       "      <td>0</td>\n",
       "    </tr>\n",
       "  </tbody>\n",
       "</table>\n",
       "<p>5 rows × 785 columns</p>\n",
       "</div>"
      ],
      "text/plain": [
       "   label  1x1  1x2  1x3  1x4  1x5  1x6  1x7  1x8  1x9  ...  28x19  28x20  \\\n",
       "0      5    0    0    0    0    0    0    0    0    0  ...      0      0   \n",
       "1      0    0    0    0    0    0    0    0    0    0  ...      0      0   \n",
       "2      4    0    0    0    0    0    0    0    0    0  ...      0      0   \n",
       "3      1    0    0    0    0    0    0    0    0    0  ...      0      0   \n",
       "4      9    0    0    0    0    0    0    0    0    0  ...      0      0   \n",
       "\n",
       "   28x21  28x22  28x23  28x24  28x25  28x26  28x27  28x28  \n",
       "0      0      0      0      0      0      0      0      0  \n",
       "1      0      0      0      0      0      0      0      0  \n",
       "2      0      0      0      0      0      0      0      0  \n",
       "3      0      0      0      0      0      0      0      0  \n",
       "4      0      0      0      0      0      0      0      0  \n",
       "\n",
       "[5 rows x 785 columns]"
      ]
     },
     "execution_count": 2,
     "metadata": {},
     "output_type": "execute_result"
    }
   ],
   "source": [
    "# Veriyi içeri alalım\n",
    "veri = pd.read_csv(\"mnist_train.csv\")\n",
    "# 28x28 pixel 785 sütunlu bir veri\n",
    "print(\"Veri boyutu : \", veri.shape)\n",
    "veri.head()"
   ]
  },
  {
   "cell_type": "code",
   "execution_count": 3,
   "metadata": {},
   "outputs": [
    {
     "data": {
      "text/html": [
       "<div>\n",
       "<style scoped>\n",
       "    .dataframe tbody tr th:only-of-type {\n",
       "        vertical-align: middle;\n",
       "    }\n",
       "\n",
       "    .dataframe tbody tr th {\n",
       "        vertical-align: top;\n",
       "    }\n",
       "\n",
       "    .dataframe thead th {\n",
       "        text-align: right;\n",
       "    }\n",
       "</style>\n",
       "<table border=\"1\" class=\"dataframe\">\n",
       "  <thead>\n",
       "    <tr style=\"text-align: right;\">\n",
       "      <th></th>\n",
       "      <th>label</th>\n",
       "      <th>1x1</th>\n",
       "      <th>1x2</th>\n",
       "      <th>1x3</th>\n",
       "      <th>1x4</th>\n",
       "      <th>1x5</th>\n",
       "      <th>1x6</th>\n",
       "      <th>1x7</th>\n",
       "      <th>1x8</th>\n",
       "      <th>1x9</th>\n",
       "      <th>...</th>\n",
       "      <th>28x19</th>\n",
       "      <th>28x20</th>\n",
       "      <th>28x21</th>\n",
       "      <th>28x22</th>\n",
       "      <th>28x23</th>\n",
       "      <th>28x24</th>\n",
       "      <th>28x25</th>\n",
       "      <th>28x26</th>\n",
       "      <th>28x27</th>\n",
       "      <th>28x28</th>\n",
       "    </tr>\n",
       "  </thead>\n",
       "  <tbody>\n",
       "    <tr>\n",
       "      <th>1</th>\n",
       "      <td>0</td>\n",
       "      <td>0</td>\n",
       "      <td>0</td>\n",
       "      <td>0</td>\n",
       "      <td>0</td>\n",
       "      <td>0</td>\n",
       "      <td>0</td>\n",
       "      <td>0</td>\n",
       "      <td>0</td>\n",
       "      <td>0</td>\n",
       "      <td>...</td>\n",
       "      <td>0</td>\n",
       "      <td>0</td>\n",
       "      <td>0</td>\n",
       "      <td>0</td>\n",
       "      <td>0</td>\n",
       "      <td>0</td>\n",
       "      <td>0</td>\n",
       "      <td>0</td>\n",
       "      <td>0</td>\n",
       "      <td>0</td>\n",
       "    </tr>\n",
       "    <tr>\n",
       "      <th>21</th>\n",
       "      <td>0</td>\n",
       "      <td>0</td>\n",
       "      <td>0</td>\n",
       "      <td>0</td>\n",
       "      <td>0</td>\n",
       "      <td>0</td>\n",
       "      <td>0</td>\n",
       "      <td>0</td>\n",
       "      <td>0</td>\n",
       "      <td>0</td>\n",
       "      <td>...</td>\n",
       "      <td>0</td>\n",
       "      <td>0</td>\n",
       "      <td>0</td>\n",
       "      <td>0</td>\n",
       "      <td>0</td>\n",
       "      <td>0</td>\n",
       "      <td>0</td>\n",
       "      <td>0</td>\n",
       "      <td>0</td>\n",
       "      <td>0</td>\n",
       "    </tr>\n",
       "    <tr>\n",
       "      <th>34</th>\n",
       "      <td>0</td>\n",
       "      <td>0</td>\n",
       "      <td>0</td>\n",
       "      <td>0</td>\n",
       "      <td>0</td>\n",
       "      <td>0</td>\n",
       "      <td>0</td>\n",
       "      <td>0</td>\n",
       "      <td>0</td>\n",
       "      <td>0</td>\n",
       "      <td>...</td>\n",
       "      <td>0</td>\n",
       "      <td>0</td>\n",
       "      <td>0</td>\n",
       "      <td>0</td>\n",
       "      <td>0</td>\n",
       "      <td>0</td>\n",
       "      <td>0</td>\n",
       "      <td>0</td>\n",
       "      <td>0</td>\n",
       "      <td>0</td>\n",
       "    </tr>\n",
       "    <tr>\n",
       "      <th>37</th>\n",
       "      <td>0</td>\n",
       "      <td>0</td>\n",
       "      <td>0</td>\n",
       "      <td>0</td>\n",
       "      <td>0</td>\n",
       "      <td>0</td>\n",
       "      <td>0</td>\n",
       "      <td>0</td>\n",
       "      <td>0</td>\n",
       "      <td>0</td>\n",
       "      <td>...</td>\n",
       "      <td>0</td>\n",
       "      <td>0</td>\n",
       "      <td>0</td>\n",
       "      <td>0</td>\n",
       "      <td>0</td>\n",
       "      <td>0</td>\n",
       "      <td>0</td>\n",
       "      <td>0</td>\n",
       "      <td>0</td>\n",
       "      <td>0</td>\n",
       "    </tr>\n",
       "    <tr>\n",
       "      <th>51</th>\n",
       "      <td>0</td>\n",
       "      <td>0</td>\n",
       "      <td>0</td>\n",
       "      <td>0</td>\n",
       "      <td>0</td>\n",
       "      <td>0</td>\n",
       "      <td>0</td>\n",
       "      <td>0</td>\n",
       "      <td>0</td>\n",
       "      <td>0</td>\n",
       "      <td>...</td>\n",
       "      <td>0</td>\n",
       "      <td>0</td>\n",
       "      <td>0</td>\n",
       "      <td>0</td>\n",
       "      <td>0</td>\n",
       "      <td>0</td>\n",
       "      <td>0</td>\n",
       "      <td>0</td>\n",
       "      <td>0</td>\n",
       "      <td>0</td>\n",
       "    </tr>\n",
       "  </tbody>\n",
       "</table>\n",
       "<p>5 rows × 785 columns</p>\n",
       "</div>"
      ],
      "text/plain": [
       "    label  1x1  1x2  1x3  1x4  1x5  1x6  1x7  1x8  1x9  ...  28x19  28x20  \\\n",
       "1       0    0    0    0    0    0    0    0    0    0  ...      0      0   \n",
       "21      0    0    0    0    0    0    0    0    0    0  ...      0      0   \n",
       "34      0    0    0    0    0    0    0    0    0    0  ...      0      0   \n",
       "37      0    0    0    0    0    0    0    0    0    0  ...      0      0   \n",
       "51      0    0    0    0    0    0    0    0    0    0  ...      0      0   \n",
       "\n",
       "    28x21  28x22  28x23  28x24  28x25  28x26  28x27  28x28  \n",
       "1       0      0      0      0      0      0      0      0  \n",
       "21      0      0      0      0      0      0      0      0  \n",
       "34      0      0      0      0      0      0      0      0  \n",
       "37      0      0      0      0      0      0      0      0  \n",
       "51      0      0      0      0      0      0      0      0  \n",
       "\n",
       "[5 rows x 785 columns]"
      ]
     },
     "execution_count": 3,
     "metadata": {},
     "output_type": "execute_result"
    }
   ],
   "source": [
    "# Sadece etiketi 1 ve 0 olanları alalım.\n",
    "label_filtre0 = 0 # etiket 0\n",
    "label_filtre1 = 1 # etiket 1\n",
    "# etiketi 0 ve 1 olanları filtreleyip, birleştirelim.\n",
    "veri = pd.concat([veri[veri[\"label\"] == label_filtre0], veri[veri[\"label\"] == label_filtre1]], axis = 0)\n",
    "veri.head()"
   ]
  },
  {
   "cell_type": "code",
   "execution_count": 4,
   "metadata": {},
   "outputs": [
    {
     "name": "stdout",
     "output_type": "stream",
     "text": [
      "X Veri :  (12665, 784)\n",
      "Y veri :  (12665,)\n"
     ]
    }
   ],
   "source": [
    "# drop labels\n",
    "Y_veri = veri[\"label\"]\n",
    "# X egitim veri seti\n",
    "X_veri = veri.drop([\"label\"], axis = 1)\n",
    "print(\"X Veri : \", X_veri.shape)\n",
    "print(\"Y veri : \", Y_veri.shape)"
   ]
  },
  {
   "cell_type": "code",
   "execution_count": 5,
   "metadata": {},
   "outputs": [
    {
     "data": {
      "text/plain": [
       "28"
      ]
     },
     "execution_count": 5,
     "metadata": {},
     "output_type": "execute_result"
    }
   ],
   "source": [
    "# resmin boyutu\n",
    "resim_boyutu = int(np.sqrt(X_veri.shape[1]))\n",
    "resim_boyutu"
   ]
  },
  {
   "cell_type": "code",
   "execution_count": 6,
   "metadata": {},
   "outputs": [
    {
     "data": {
      "image/png": "[encoded data removed]",
      "text/plain": [
       "<Figure size 432x288 with 1 Axes>"
      ]
     },
     "metadata": {
      "needs_background": "light"
     },
     "output_type": "display_data"
    }
   ],
   "source": [
    "# Görsel - 0 sınıfı\n",
    "resim1 = X_veri.iloc[900].values\n",
    "resim1 = resim1.reshape((resim_boyutu, resim_boyutu))\n",
    "plt.imshow(resim1, cmap = \"gray\")\n",
    "plt.axis(\"off\")\n",
    "plt.show()"
   ]
  },
  {
   "cell_type": "code",
   "execution_count": 7,
   "metadata": {},
   "outputs": [
    {
     "data": {
      "image/png": "[encoded data removed]",
      "text/plain": [
       "<Figure size 432x288 with 1 Axes>"
      ]
     },
     "metadata": {
      "needs_background": "light"
     },
     "output_type": "display_data"
    }
   ],
   "source": [
    "# Görsel - 1 sınıfı\n",
    "resim2 = X_veri.iloc[8000].values\n",
    "resim2 = resim2.reshape((resim_boyutu, resim_boyutu))\n",
    "plt.imshow(resim2, cmap = \"gray\")\n",
    "plt.axis(\"off\")\n",
    "plt.show()"
   ]
  },
  {
   "cell_type": "code",
   "execution_count": 8,
   "metadata": {},
   "outputs": [
    {
     "name": "stdout",
     "output_type": "stream",
     "text": [
      "X train :  (10765, 784)\n",
      "X test :  (1900, 784)\n"
     ]
    }
   ],
   "source": [
    "# train ve test bölünmesi\n",
    "X_train, X_test, Y_train, Y_test = train_test_split(X_veri, Y_veri, test_size = 0.15, random_state = 42)\n",
    "print(\"X train : \", X_train.shape)\n",
    "print(\"X test : \", X_test.shape)"
   ]
  },
  {
   "cell_type": "code",
   "execution_count": 9,
   "metadata": {},
   "outputs": [
    {
     "name": "stdout",
     "output_type": "stream",
     "text": [
      "x eğitim :  (784, 10765)\n",
      "x test :  (784, 1900)\n",
      "y eğitim :  (1, 10765)\n",
      "y test :  (1, 1900)\n"
     ]
    }
   ],
   "source": [
    "# Transpoze İşlemi\n",
    "x_train = X_train.T\n",
    "x_test = X_test.T\n",
    "y_train = Y_train.values.reshape(-1, 1).T\n",
    "y_test = Y_test.values.reshape(-1,1).T\n",
    "print(\"x eğitim : \", x_train.shape)\n",
    "print(\"x test : \", x_test.shape)\n",
    "print(\"y eğitim : \", y_train.shape)\n",
    "print(\"y test : \", y_test.shape)"
   ]
  },
  {
   "cell_type": "code",
   "execution_count": 10,
   "metadata": {},
   "outputs": [],
   "source": [
    "# ilklendirme işlemi\n",
    "def layerSaysiniParametreleriIlklendir(x_train, y_train):\n",
    "    parmeters = {\"weight1\" : np.random.randn(3, x_train.shape[0]) * 0.1,\n",
    "                 \"bias1\" : np.zeros((3, 1)),\n",
    "                 \"weight2\" : np.random.randn(y_train.shape[0], 3) * 0.1,\n",
    "                 \"bias2\" : np.zeros((y_train.shape[0], 1))}\n",
    "    return parmeters"
   ]
  },
  {
   "cell_type": "code",
   "execution_count": 11,
   "metadata": {},
   "outputs": [
    {
     "data": {
      "text/plain": [
       "0.5"
      ]
     },
     "execution_count": 11,
     "metadata": {},
     "output_type": "execute_result"
    }
   ],
   "source": [
    "# sigmoid\n",
    "def sigmoid(z):\n",
    "    y_head = 1 / (1 + np.exp(-z))\n",
    "    return y_head\n",
    "\n",
    "sigmoid(0)"
   ]
  },
  {
   "cell_type": "code",
   "execution_count": 12,
   "metadata": {},
   "outputs": [],
   "source": [
    "# ileri yayılma\n",
    "def ileriYayilmaNN(x_train, parameters):\n",
    "    Z1 = np.dot(parameters[\"weight1\"], x_train) + parameters[\"bias1\"]\n",
    "    A1 = np.tanh(Z1)\n",
    "    Z2 = np.dot(parameters[\"weight2\"], A1) + parameters[\"bias2\"]\n",
    "    A2 = sigmoid(Z2)\n",
    "    cache = {\"Z1\" : Z1,\n",
    "             \"A1\" : A1,\n",
    "             \"Z2\" : Z2,\n",
    "             \"A2\" : A2}\n",
    "    return A2, cache"
   ]
  },
  {
   "cell_type": "code",
   "execution_count": 13,
   "metadata": {},
   "outputs": [],
   "source": [
    "# maliyet hesabı\n",
    "def maliyetHesaplaNN(A2, Y, parameters):\n",
    "    logprobs = np.multiply(np.log(A2), Y)\n",
    "    cost = -np.sum(logprobs) / Y.shape[1]\n",
    "    return cost"
   ]
  },
  {
   "cell_type": "code",
   "execution_count": 14,
   "metadata": {},
   "outputs": [],
   "source": [
    "# Geriye Yayılma - backward propagation\n",
    "def geriyeYayilmaNN(parameters, cache, X, Y):\n",
    "    dZ2 = cache[\"A2\"] - Y\n",
    "    dW2 = np.dot(dZ2, cache[\"A1\"].T) / X.shape[1]\n",
    "    db2 = np.sum(dZ2, axis = 1, keepdims = True) / X.shape[1]\n",
    "    dZ1 = np.dot(parameters[\"weight2\"].T, dZ2) * (1 - np.power(cache[\"A1\"], 2))\n",
    "    dW1 = np.dot(dZ1, X.T) / X.shape[1]\n",
    "    db1 = np.sum(dZ1, axis = 1, keepdims = True) / X.shape[1]\n",
    "    grads = {\"dweight1\" : dW1,\n",
    "             \"dbias1\" : db1,\n",
    "             \"dweight2\" : dW2,\n",
    "             \"dbias2\" : db2}\n",
    "    return grads"
   ]
  },
  {
   "cell_type": "code",
   "execution_count": 15,
   "metadata": {},
   "outputs": [],
   "source": [
    "# update parameters\n",
    "def parametreGuncelleNN(parameters, grads, learning_rate = 0.01):\n",
    "    parameters = {\"weight1\" : parameters[\"weight1\"] - learning_rate * grads[\"dweight1\"],\n",
    "                  \"bias1\" : parameters[\"bias1\"] - learning_rate * grads[\"dbias1\"],\n",
    "                  \"weight2\" : parameters[\"weight2\"] - learning_rate * grads[\"dweight2\"], \n",
    "                  \"bias2\" : parameters[\"bias2\"] - learning_rate * grads[\"dbias2\"]}\n",
    "    return parameters"
   ]
  },
  {
   "cell_type": "code",
   "execution_count": 16,
   "metadata": {},
   "outputs": [],
   "source": [
    "# tahmin\n",
    "def tahminNN(parameters, x_test):\n",
    "    # x test ileri yayılma girdisi\n",
    "    A2, cache = ileriYayilmaNN(x_test, parameters)\n",
    "    Y_prediction = np.zeros((1, x_test.shape[1]))\n",
    "    # eğer z 0.5'den büyükse 1 sınıfı resimleri\n",
    "    # eğer z 0.5'den küçükse 0 sınıfı resimleri\n",
    "    for i in range(A2.shape[1]):\n",
    "        if A2[0, i] <= 0.5:\n",
    "            Y_prediction[0, i] = 0\n",
    "        else:\n",
    "            Y_prediction[0, i] = 1\n",
    "    return Y_prediction"
   ]
  },
  {
   "cell_type": "code",
   "execution_count": 17,
   "metadata": {},
   "outputs": [
    {
     "name": "stdout",
     "output_type": "stream",
     "text": [
      "İterasyon : 0, Maliyet : 0.355824\n",
      "İterasyon : 100, Maliyet : 0.234842\n",
      "İterasyon : 200, Maliyet : 0.148646\n",
      "İterasyon : 300, Maliyet : 0.102463\n",
      "İterasyon : 400, Maliyet : 0.077681\n",
      "İterasyon : 500, Maliyet : 0.062100\n",
      "İterasyon : 600, Maliyet : 0.052166\n",
      "İterasyon : 700, Maliyet : 0.044036\n",
      "İterasyon : 800, Maliyet : 0.037163\n",
      "İterasyon : 900, Maliyet : 0.033180\n"
     ]
    },
    {
     "data": {
      "image/png": "[encoded data removed]",
      "text/plain": [
       "<Figure size 432x288 with 1 Axes>"
      ]
     },
     "metadata": {
      "needs_background": "light"
     },
     "output_type": "display_data"
    },
    {
     "name": "stdout",
     "output_type": "stream",
     "text": [
      "Eğitim doğruluğu : 99.17324663260567 %\n",
      "Test Doğruluğu : 99.26315789473684 %\n"
     ]
    }
   ],
   "source": [
    "# İki katmnalı sinir ağı\n",
    "def ikiKatmanNN(x_train, y_train, x_test, y_test, num_iterations):\n",
    "    cost_list = []\n",
    "    index_list = []\n",
    "    # ilklendirme\n",
    "    parameters = layerSaysiniParametreleriIlklendir(x_train, y_train)\n",
    "    for i in range(0, num_iterations):\n",
    "        # ileri yayılım\n",
    "        A2, cache = ileriYayilmaNN(x_train, parameters)\n",
    "        # Maliyet hesapla\n",
    "        cost = maliyetHesaplaNN(A2, y_train, parameters)\n",
    "        # geriye yayılım\n",
    "        grads = geriyeYayilmaNN(parameters, cache, x_train, y_train)\n",
    "        # parametreleri güncelle\n",
    "        parameters = parametreGuncelleNN(parameters, grads)\n",
    "        if i % 100 == 0:\n",
    "            cost_list.append(cost)\n",
    "            index_list.append(i)\n",
    "            print(\"İterasyon : %i, Maliyet : %f\" %(i, cost))\n",
    "\n",
    "    # Görselleştir\n",
    "    plt.plot(index_list, cost_list)\n",
    "    plt.xticks(index_list, rotation = \"vertical\")\n",
    "    plt.xlabel(\"İterasyon Sayısı\")\n",
    "    plt.ylabel(\"Maliyet\")\n",
    "    plt.show()\n",
    "\n",
    "    # tahmin\n",
    "    y_prediction_test = tahminNN(parameters, x_test)\n",
    "    y_prediction_train = tahminNN(parameters, x_train)\n",
    "\n",
    "    # Eğitim ve test doğruluğu\n",
    "    print(\"Eğitim doğruluğu : {} %\".format(100 - np.mean(np.abs(y_prediction_train - y_train)) * 100))\n",
    "    print(\"Test Doğruluğu : {} %\".format(100 - np.mean(np.abs(y_prediction_test - y_test)) * 100))\n",
    "\n",
    "    return parameters\n",
    "\n",
    "parameters = ikiKatmanNN(x_train, y_train, x_test, y_test, num_iterations = 1000)\n"
   ]
  },
  {
   "cell_type": "code",
   "execution_count": 18,
   "metadata": {},
   "outputs": [],
   "source": [
    "# Katman sayısını N katman yapalım\n",
    "# veri setimiz aynı olacak re shaping yapalım.\n",
    "x_train, x_test, y_train, y_test = x_train.T, x_test.T, y_train.T, y_test.T"
   ]
  },
  {
   "cell_type": "code",
   "execution_count": 19,
   "metadata": {},
   "outputs": [],
   "source": [
    "# Yapay sinir ağları Kütüphaneleri\n",
    "from keras.wrappers.scikit_learn import KerasClassifier\n",
    "from sklearn.model_selection import cross_val_score\n",
    "from keras.models import Sequential\n",
    "from keras.layers import Dense"
   ]
  },
  {
   "cell_type": "code",
   "execution_count": 20,
   "metadata": {},
   "outputs": [
    {
     "name": "stdout",
     "output_type": "stream",
     "text": [
      "Epoch 1/5\n",
      "Epoch 1/5\n",
      "Epoch 1/5\n",
      "Doğruluk Ortalaması : nan\n",
      "Doğruluk Varyansı : nan\n"
     ]
    }
   ],
   "source": [
    "# modelimiz için metod yazalım\n",
    "def siniflandiriciMethot():\n",
    "    classifier = Sequential() # initializ NN\n",
    "    classifier.add(Dense(units = 8, kernel_initializer = \"uniform\",\n",
    "        activation = \"relu\", input_dim = x_train.shape[1]))\n",
    "    classifier.add(Dense(units = 4, kernel_initializer = \"uniform\",\n",
    "        activation = \"relu\"))\n",
    "    classifier.add(Dense(units = 1, kernel_initializer = \"uniform\",\n",
    "        activation = \"sigmoid\"))\n",
    "    classifier.compile(optimizer = \"adam\", loss = \"binary_crossentropy\",\n",
    "        metrics = [\"accurarcy\"])\n",
    "    return classifier\n",
    "\n",
    "siniflandirici = KerasClassifier(build_fn = siniflandiriciMethot, epochs = 5)\n",
    "dogruluk = cross_val_score(estimator = siniflandirici, X = x_train, \n",
    "    y = y_train, cv = 3) # 3lü çapraz doğrulama\n",
    "ortalama = dogruluk.mean()\n",
    "varyans = dogruluk.std()\n",
    "print(\"Doğruluk Ortalaması : \" + str(ortalama))\n",
    "print(\"Doğruluk Varyansı : \" + str(varyans))\n"
   ]
  }
 ],
 "metadata": {
  "interpreter": {
   "hash": "df0bdd44f3282c8b0fb7a07242e441c802c76eac2f190fb5c82b8993c3ec7e7e"
  },
  "kernelspec": {
   "display_name": "Python 3.8.8 64-bit ('base': conda)",
   "name": "python3"
  },
  "language_info": {
   "codemirror_mode": {
    "name": "ipython",
    "version": 3
   },
   "file_extension": ".py",
   "mimetype": "text/x-python",
   "name": "python",
   "nbconvert_exporter": "python",
   "pygments_lexer": "ipython3",
   "version": "3.9.7"
  },
  "orig_nbformat": 4
 },
 "nbformat": 4,
 "nbformat_minor": 2
}
