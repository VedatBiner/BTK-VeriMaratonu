{
 "cells": [
  {
   "cell_type": "markdown",
   "metadata": {},
   "source": [
    "## Çoklu Doğrusal Regresyon Örneği"
   ]
  },
  {
   "cell_type": "code",
   "execution_count": 1,
   "metadata": {},
   "outputs": [],
   "source": [
    "# Kütüphaneler\n",
    "import numpy as np\n",
    "import pandas as pd\n",
    "\n",
    "from sklearn.linear_model import LinearRegression"
   ]
  },
  {
   "cell_type": "code",
   "execution_count": 2,
   "metadata": {},
   "outputs": [
    {
     "data": {
      "text/html": [
       "<div>\n",
       "<style scoped>\n",
       "    .dataframe tbody tr th:only-of-type {\n",
       "        vertical-align: middle;\n",
       "    }\n",
       "\n",
       "    .dataframe tbody tr th {\n",
       "        vertical-align: top;\n",
       "    }\n",
       "\n",
       "    .dataframe thead th {\n",
       "        text-align: right;\n",
       "    }\n",
       "</style>\n",
       "<table border=\"1\" class=\"dataframe\">\n",
       "  <thead>\n",
       "    <tr style=\"text-align: right;\">\n",
       "      <th></th>\n",
       "      <th>deneyim</th>\n",
       "      <th>maas</th>\n",
       "      <th>yas</th>\n",
       "    </tr>\n",
       "  </thead>\n",
       "  <tbody>\n",
       "    <tr>\n",
       "      <th>0</th>\n",
       "      <td>0.5</td>\n",
       "      <td>2500</td>\n",
       "      <td>22</td>\n",
       "    </tr>\n",
       "    <tr>\n",
       "      <th>1</th>\n",
       "      <td>0.0</td>\n",
       "      <td>2250</td>\n",
       "      <td>21</td>\n",
       "    </tr>\n",
       "    <tr>\n",
       "      <th>2</th>\n",
       "      <td>1.0</td>\n",
       "      <td>2750</td>\n",
       "      <td>23</td>\n",
       "    </tr>\n",
       "    <tr>\n",
       "      <th>3</th>\n",
       "      <td>5.0</td>\n",
       "      <td>8000</td>\n",
       "      <td>25</td>\n",
       "    </tr>\n",
       "    <tr>\n",
       "      <th>4</th>\n",
       "      <td>8.0</td>\n",
       "      <td>9000</td>\n",
       "      <td>28</td>\n",
       "    </tr>\n",
       "  </tbody>\n",
       "</table>\n",
       "</div>"
      ],
      "text/plain": [
       "   deneyim  maas  yas\n",
       "0      0.5  2500   22\n",
       "1      0.0  2250   21\n",
       "2      1.0  2750   23\n",
       "3      5.0  8000   25\n",
       "4      8.0  9000   28"
      ]
     },
     "execution_count": 2,
     "metadata": {},
     "output_type": "execute_result"
    }
   ],
   "source": [
    "# veriyi oku\n",
    "df = pd.read_csv(\"coklu_dogrusal_regresyon_veriseti.csv\", sep = \";\")\n",
    "df.head()"
   ]
  },
  {
   "cell_type": "code",
   "execution_count": 3,
   "metadata": {},
   "outputs": [
    {
     "data": {
      "text/plain": [
       "array([[ 0.5, 22. ],\n",
       "       [ 0. , 21. ],\n",
       "       [ 1. , 23. ],\n",
       "       [ 5. , 25. ],\n",
       "       [ 8. , 28. ],\n",
       "       [ 4. , 23. ],\n",
       "       [15. , 35. ],\n",
       "       [ 7. , 29. ],\n",
       "       [ 3. , 22. ],\n",
       "       [ 2. , 23. ],\n",
       "       [12. , 32. ],\n",
       "       [10. , 30. ],\n",
       "       [14. , 34. ],\n",
       "       [ 6. , 27. ]])"
      ]
     },
     "execution_count": 3,
     "metadata": {},
     "output_type": "execute_result"
    }
   ],
   "source": [
    "# deneyim ve yaşı bağımsız değişkenler olarak al\n",
    "x = df.iloc[:, [0, 2]].values\n",
    "x"
   ]
  },
  {
   "cell_type": "code",
   "execution_count": 4,
   "metadata": {},
   "outputs": [
    {
     "data": {
      "text/plain": [
       "array([[ 2500],\n",
       "       [ 2250],\n",
       "       [ 2750],\n",
       "       [ 8000],\n",
       "       [ 9000],\n",
       "       [ 6900],\n",
       "       [20000],\n",
       "       [ 8500],\n",
       "       [ 6000],\n",
       "       [ 3500],\n",
       "       [15000],\n",
       "       [13000],\n",
       "       [18000],\n",
       "       [ 7500]], dtype=int64)"
      ]
     },
     "execution_count": 4,
     "metadata": {},
     "output_type": "execute_result"
    }
   ],
   "source": [
    "# maas - bağımlı değişken\n",
    "y = df.maas.values.reshape(-1, 1)\n",
    "y"
   ]
  },
  {
   "cell_type": "code",
   "execution_count": 5,
   "metadata": {},
   "outputs": [
    {
     "data": {
      "text/plain": [
       "LinearRegression()"
      ]
     },
     "execution_count": 5,
     "metadata": {},
     "output_type": "execute_result"
    }
   ],
   "source": [
    "# modeli eğitelim\n",
    "coklu_dogrusal_regresyon = LinearRegression()\n",
    "coklu_dogrusal_regresyon.fit(x, y)"
   ]
  },
  {
   "cell_type": "code",
   "execution_count": 8,
   "metadata": {},
   "outputs": [
    {
     "name": "stdout",
     "output_type": "stream",
     "text": [
      "10 yıllık deneyim ve 35 yaş sonucu çıkan maaş : [11046.35815877] TL.\n"
     ]
    }
   ],
   "source": [
    "# test1 - 10 yıl deneyim ve 35 yaş için maaş\n",
    "test_verisi1 = np.array([[10,35]])\n",
    "test_sonucu1 = coklu_dogrusal_regresyon.predict(test_verisi1)\n",
    "print(\"10 yıllık deneyim ve 35 yaş sonucu çıkan maaş : {} TL.\".format(test_sonucu1[0]))"
   ]
  },
  {
   "cell_type": "code",
   "execution_count": 10,
   "metadata": {},
   "outputs": [
    {
     "name": "stdout",
     "output_type": "stream",
     "text": [
      "5 yıllık deneyim ve 35 yaş sonucu çıkan maaş : [3418.85455609] TL.\n"
     ]
    }
   ],
   "source": [
    "# test1 - 5 yıl deneyim ve 35 yaş için maaş\n",
    "test_verisi2 = np.array([[5,35]])\n",
    "test_sonucu2 = coklu_dogrusal_regresyon.predict(test_verisi2)\n",
    "print(\"5 yıllık deneyim ve 35 yaş sonucu çıkan maaş : {} TL.\".format(test_sonucu2[0]))"
   ]
  }
 ],
 "metadata": {
  "interpreter": {
   "hash": "df0bdd44f3282c8b0fb7a07242e441c802c76eac2f190fb5c82b8993c3ec7e7e"
  },
  "kernelspec": {
   "display_name": "Python 3.8.8 64-bit ('base': conda)",
   "name": "python3"
  },
  "language_info": {
   "codemirror_mode": {
    "name": "ipython",
    "version": 3
   },
   "file_extension": ".py",
   "mimetype": "text/x-python",
   "name": "python",
   "nbconvert_exporter": "python",
   "pygments_lexer": "ipython3",
   "version": "3.9.7"
  },
  "orig_nbformat": 4
 },
 "nbformat": 4,
 "nbformat_minor": 2
}
