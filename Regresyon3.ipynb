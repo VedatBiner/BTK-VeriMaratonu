{
 "cells": [
  {
   "cell_type": "markdown",
   "metadata": {},
   "source": [
    "## Polynomsal Regresyon Örneği"
   ]
  },
  {
   "cell_type": "code",
   "execution_count": 1,
   "metadata": {},
   "outputs": [],
   "source": [
    "# Kütüphaneler\n",
    "import numpy as np\n",
    "import pandas as pd\n",
    "import matplotlib.pyplot as plt\n",
    "\n",
    "from sklearn.linear_model import LinearRegression    # Doğrusal Regresyon\n",
    "from sklearn.preprocessing import PolynomialFeatures # Polnomsal Regresyon"
   ]
  },
  {
   "cell_type": "code",
   "execution_count": 2,
   "metadata": {},
   "outputs": [
    {
     "data": {
      "text/html": [
       "<div>\n",
       "<style scoped>\n",
       "    .dataframe tbody tr th:only-of-type {\n",
       "        vertical-align: middle;\n",
       "    }\n",
       "\n",
       "    .dataframe tbody tr th {\n",
       "        vertical-align: top;\n",
       "    }\n",
       "\n",
       "    .dataframe thead th {\n",
       "        text-align: right;\n",
       "    }\n",
       "</style>\n",
       "<table border=\"1\" class=\"dataframe\">\n",
       "  <thead>\n",
       "    <tr style=\"text-align: right;\">\n",
       "      <th></th>\n",
       "      <th>araba_fiyat</th>\n",
       "      <th>araba_max_hiz</th>\n",
       "    </tr>\n",
       "  </thead>\n",
       "  <tbody>\n",
       "    <tr>\n",
       "      <th>0</th>\n",
       "      <td>60</td>\n",
       "      <td>180</td>\n",
       "    </tr>\n",
       "    <tr>\n",
       "      <th>1</th>\n",
       "      <td>70</td>\n",
       "      <td>180</td>\n",
       "    </tr>\n",
       "    <tr>\n",
       "      <th>2</th>\n",
       "      <td>80</td>\n",
       "      <td>200</td>\n",
       "    </tr>\n",
       "    <tr>\n",
       "      <th>3</th>\n",
       "      <td>100</td>\n",
       "      <td>200</td>\n",
       "    </tr>\n",
       "    <tr>\n",
       "      <th>4</th>\n",
       "      <td>120</td>\n",
       "      <td>200</td>\n",
       "    </tr>\n",
       "  </tbody>\n",
       "</table>\n",
       "</div>"
      ],
      "text/plain": [
       "   araba_fiyat  araba_max_hiz\n",
       "0           60            180\n",
       "1           70            180\n",
       "2           80            200\n",
       "3          100            200\n",
       "4          120            200"
      ]
     },
     "execution_count": 2,
     "metadata": {},
     "output_type": "execute_result"
    }
   ],
   "source": [
    "# veriyi oku\n",
    "df = pd.read_csv(\"polinomsal_regresyon_veriseti.csv\", sep = \";\")\n",
    "df.head()"
   ]
  },
  {
   "cell_type": "code",
   "execution_count": 3,
   "metadata": {},
   "outputs": [],
   "source": [
    "# sklearn genelde input olarak numpy kabul eder.\n",
    "y = df.araba_max_hiz.values.reshape(-1, 1)\n",
    "x = df.araba_fiyat.values.reshape(-1, 1)"
   ]
  },
  {
   "cell_type": "code",
   "execution_count": 4,
   "metadata": {},
   "outputs": [
    {
     "data": {
      "image/png": "[encoded data removed]",
      "text/plain": [
       "<Figure size 432x288 with 1 Axes>"
      ]
     },
     "metadata": {
      "needs_background": "light"
     },
     "output_type": "display_data"
    }
   ],
   "source": [
    "# Veriyi görselleştirelim\n",
    "plt.scatter(x, y)\n",
    "plt.ylabel(\"Arabanın Maksimum Hızı\")\n",
    "plt.xlabel(\"Arabanın Fiyatı\")\n",
    "plt.title(\"Araba Hız - Fiyat İlişkisi\")\n",
    "plt.grid(True)\n",
    "plt.show()"
   ]
  },
  {
   "cell_type": "code",
   "execution_count": 5,
   "metadata": {},
   "outputs": [
    {
     "data": {
      "text/plain": [
       "LinearRegression()"
      ]
     },
     "execution_count": 5,
     "metadata": {},
     "output_type": "execute_result"
    }
   ],
   "source": [
    "# Doğrusal regresyon deneyelim\n",
    "lr = LinearRegression()\n",
    "lr.fit(x, y)"
   ]
  },
  {
   "cell_type": "code",
   "execution_count": 6,
   "metadata": {},
   "outputs": [
    {
     "data": {
      "image/png": "[encoded data removed]",
      "text/plain": [
       "<Figure size 432x288 with 1 Axes>"
      ]
     },
     "metadata": {
      "needs_background": "light"
     },
     "output_type": "display_data"
    },
    {
     "name": "stdout",
     "output_type": "stream",
     "text": [
      "10 bin TL. lik araba hızı tahmini :  [[871.66401826]]\n"
     ]
    }
   ],
   "source": [
    "# tahmin ve görsel\n",
    "y_tahmin = lr.predict(x)\n",
    "\n",
    "# Görsel\n",
    "plt.scatter(x, y)\n",
    "plt.plot(x, y_tahmin, color = \"red\")\n",
    "plt.ylabel(\"Arabanın Maksimum Hızı\")\n",
    "plt.xlabel(\"Arabanın Fiyatı\")\n",
    "plt.title(\"Araba Hız - Fiyat İlişkisi\")\n",
    "plt.grid(True)\n",
    "plt.show()\n",
    "\n",
    "araba_fiyati = 10000\n",
    "print(\"10 bin TL. lik araba hızı tahmini : \", lr.predict((np.array([araba_fiyati]).reshape(1, -1))))"
   ]
  },
  {
   "cell_type": "code",
   "execution_count": 7,
   "metadata": {},
   "outputs": [
    {
     "data": {
      "text/plain": [
       "array([[1.0000000e+00, 6.0000000e+01, 3.6000000e+03, 2.1600000e+05,\n",
       "        1.2960000e+07],\n",
       "       [1.0000000e+00, 7.0000000e+01, 4.9000000e+03, 3.4300000e+05,\n",
       "        2.4010000e+07],\n",
       "       [1.0000000e+00, 8.0000000e+01, 6.4000000e+03, 5.1200000e+05,\n",
       "        4.0960000e+07],\n",
       "       [1.0000000e+00, 1.0000000e+02, 1.0000000e+04, 1.0000000e+06,\n",
       "        1.0000000e+08],\n",
       "       [1.0000000e+00, 1.2000000e+02, 1.4400000e+04, 1.7280000e+06,\n",
       "        2.0736000e+08],\n",
       "       [1.0000000e+00, 1.5000000e+02, 2.2500000e+04, 3.3750000e+06,\n",
       "        5.0625000e+08],\n",
       "       [1.0000000e+00, 2.0000000e+02, 4.0000000e+04, 8.0000000e+06,\n",
       "        1.6000000e+09],\n",
       "       [1.0000000e+00, 2.5000000e+02, 6.2500000e+04, 1.5625000e+07,\n",
       "        3.9062500e+09],\n",
       "       [1.0000000e+00, 3.0000000e+02, 9.0000000e+04, 2.7000000e+07,\n",
       "        8.1000000e+09],\n",
       "       [1.0000000e+00, 4.0000000e+02, 1.6000000e+05, 6.4000000e+07,\n",
       "        2.5600000e+10],\n",
       "       [1.0000000e+00, 5.0000000e+02, 2.5000000e+05, 1.2500000e+08,\n",
       "        6.2500000e+10],\n",
       "       [1.0000000e+00, 7.5000000e+02, 5.6250000e+05, 4.2187500e+08,\n",
       "        3.1640625e+11],\n",
       "       [1.0000000e+00, 1.0000000e+03, 1.0000000e+06, 1.0000000e+09,\n",
       "        1.0000000e+12],\n",
       "       [1.0000000e+00, 2.0000000e+03, 4.0000000e+06, 8.0000000e+09,\n",
       "        1.6000000e+13],\n",
       "       [1.0000000e+00, 3.0000000e+03, 9.0000000e+06, 2.7000000e+10,\n",
       "        8.1000000e+13]])"
      ]
     },
     "execution_count": 7,
     "metadata": {},
     "output_type": "execute_result"
    }
   ],
   "source": [
    "# polinomsal regresyon deneyelim\n",
    "polinom_regresyon = PolynomialFeatures(degree = 4) # polynom derecesi\n",
    "x_polinom = polinom_regresyon.fit_transform(x)\n",
    "x_polinom"
   ]
  },
  {
   "cell_type": "code",
   "execution_count": 8,
   "metadata": {},
   "outputs": [
    {
     "data": {
      "text/plain": [
       "LinearRegression()"
      ]
     },
     "execution_count": 8,
     "metadata": {},
     "output_type": "execute_result"
    }
   ],
   "source": [
    "# Eğitelim\n",
    "lr2 = LinearRegression()\n",
    "lr2.fit(x_polinom, y)"
   ]
  },
  {
   "cell_type": "code",
   "execution_count": 9,
   "metadata": {},
   "outputs": [
    {
     "data": {
      "image/png": "[encoded data removed]",
      "text/plain": [
       "<Figure size 432x288 with 1 Axes>"
      ]
     },
     "metadata": {
      "needs_background": "light"
     },
     "output_type": "display_data"
    }
   ],
   "source": [
    "# tahmin görseli - eksik\n",
    "y_tahmin2 = lr2.predict(x_polinom)\n",
    "\n",
    "# Görsel\n",
    "plt.scatter(x, y)\n",
    "plt.plot(x, y_tahmin, color = \"red\", label = \"Doğrusal\")\n",
    "plt.plot(x, y_tahmin2, color = \"green\", label = \"Polinomsal\")\n",
    "plt.legend()\n",
    "plt.ylabel(\"Arabanın Maksimum Hızı\")\n",
    "plt.xlabel(\"Arabanın Fiyatı\")\n",
    "plt.title(\"Araba Hız - Fiyat İlişkisi\")\n",
    "plt.grid(True)\n",
    "plt.show()"
   ]
  }
 ],
 "metadata": {
  "interpreter": {
   "hash": "df0bdd44f3282c8b0fb7a07242e441c802c76eac2f190fb5c82b8993c3ec7e7e"
  },
  "kernelspec": {
   "display_name": "Python 3.8.8 64-bit ('base': conda)",
   "name": "python3"
  },
  "language_info": {
   "codemirror_mode": {
    "name": "ipython",
    "version": 3
   },
   "file_extension": ".py",
   "mimetype": "text/x-python",
   "name": "python",
   "nbconvert_exporter": "python",
   "pygments_lexer": "ipython3",
   "version": "3.9.7"
  },
  "orig_nbformat": 4
 },
 "nbformat": 4,
 "nbformat_minor": 2
}
