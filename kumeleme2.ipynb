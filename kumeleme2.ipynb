{
 "cells": [
  {
   "cell_type": "markdown",
   "metadata": {},
   "source": [
    "## Hiyerarşik Küme Uygulaması"
   ]
  },
  {
   "cell_type": "code",
   "execution_count": 1,
   "metadata": {},
   "outputs": [],
   "source": [
    "# Kütüphaneler\n",
    "import numpy as np\n",
    "import pandas as pd\n",
    "import matplotlib.pyplot as plt"
   ]
  },
  {
   "cell_type": "code",
   "execution_count": 2,
   "metadata": {},
   "outputs": [
    {
     "data": {
      "text/html": [
       "<div>\n",
       "<style scoped>\n",
       "    .dataframe tbody tr th:only-of-type {\n",
       "        vertical-align: middle;\n",
       "    }\n",
       "\n",
       "    .dataframe tbody tr th {\n",
       "        vertical-align: top;\n",
       "    }\n",
       "\n",
       "    .dataframe thead th {\n",
       "        text-align: right;\n",
       "    }\n",
       "</style>\n",
       "<table border=\"1\" class=\"dataframe\">\n",
       "  <thead>\n",
       "    <tr style=\"text-align: right;\">\n",
       "      <th></th>\n",
       "      <th>x</th>\n",
       "      <th>y</th>\n",
       "    </tr>\n",
       "  </thead>\n",
       "  <tbody>\n",
       "    <tr>\n",
       "      <th>0</th>\n",
       "      <td>19.386466</td>\n",
       "      <td>19.386466</td>\n",
       "    </tr>\n",
       "    <tr>\n",
       "      <th>1</th>\n",
       "      <td>25.105058</td>\n",
       "      <td>25.105058</td>\n",
       "    </tr>\n",
       "    <tr>\n",
       "      <th>2</th>\n",
       "      <td>26.099699</td>\n",
       "      <td>26.099699</td>\n",
       "    </tr>\n",
       "    <tr>\n",
       "      <th>3</th>\n",
       "      <td>27.655167</td>\n",
       "      <td>27.655167</td>\n",
       "    </tr>\n",
       "    <tr>\n",
       "      <th>4</th>\n",
       "      <td>17.346796</td>\n",
       "      <td>17.346796</td>\n",
       "    </tr>\n",
       "  </tbody>\n",
       "</table>\n",
       "</div>"
      ],
      "text/plain": [
       "           x          y\n",
       "0  19.386466  19.386466\n",
       "1  25.105058  25.105058\n",
       "2  26.099699  26.099699\n",
       "3  27.655167  27.655167\n",
       "4  17.346796  17.346796"
      ]
     },
     "execution_count": 2,
     "metadata": {},
     "output_type": "execute_result"
    }
   ],
   "source": [
    "# veri seti oluştur\n",
    "# kume1\n",
    "x1 = np.random.normal(25, 5, 20)\n",
    "y1 = np.random.normal(25, 5, 20)\n",
    "# kume2\n",
    "x2 = np.random.normal(55, 5, 20)\n",
    "y2 = np.random.normal(60, 5, 20)\n",
    "# kume3\n",
    "x3 = np.random.normal(55, 5, 20)\n",
    "y3 = np.random.normal(15, 5, 20)\n",
    "# çizim için birleştirelim\n",
    "x = np.concatenate((x1, x2, x3), axis = 0)\n",
    "y = np.concatenate((x1, x2, x3), axis = 0)\n",
    "# data frame oluşturalım\n",
    "dictionary = {\"x\" : x, \"y\" : y}\n",
    "data = pd.DataFrame(dictionary)\n",
    "data.head()"
   ]
  },
  {
   "cell_type": "code",
   "execution_count": 3,
   "metadata": {},
   "outputs": [
    {
     "data": {
      "image/png": "[encoded data removed]",
      "text/plain": [
       "<Figure size 432x288 with 1 Axes>"
      ]
     },
     "metadata": {
      "needs_background": "light"
     },
     "output_type": "display_data"
    }
   ],
   "source": [
    "# görselleştirelim\n",
    "plt.figure()\n",
    "plt.scatter(x1, y1)\n",
    "plt.scatter(x2, y2)\n",
    "plt.scatter(x3, y3)\n",
    "plt.xlabel(\"x\")\n",
    "plt.ylabel(\"y\")\n",
    "plt.title(\"Hiyerarşik Kümeleme Yöntemi İçin Oluşturulan Veri Seti\")\n",
    "plt.show()"
   ]
  },
  {
   "cell_type": "code",
   "execution_count": 4,
   "metadata": {},
   "outputs": [
    {
     "data": {
      "image/png": "[encoded data removed]",
      "text/plain": [
       "<Figure size 432x288 with 1 Axes>"
      ]
     },
     "metadata": {
      "needs_background": "light"
     },
     "output_type": "display_data"
    }
   ],
   "source": [
    "# Dendrogram oluşturalım\n",
    "from scipy.cluster.hierarchy import linkage, dendrogram\n",
    "\n",
    "merg = linkage(data, method = \"ward\")\n",
    "dendrogram(merg, leaf_rotation = 90)\n",
    "plt.xlabel(\"Veri Noktaları\")\n",
    "plt.ylabel(\"Öklid Mesafesi\")\n",
    "plt.show()"
   ]
  },
  {
   "cell_type": "code",
   "execution_count": 7,
   "metadata": {},
   "outputs": [
    {
     "data": {
      "image/png": "[encoded data removed]",
      "text/plain": [
       "<Figure size 432x288 with 1 Axes>"
      ]
     },
     "metadata": {
      "needs_background": "light"
     },
     "output_type": "display_data"
    }
   ],
   "source": [
    "# Hiyerarşik kümeleme algoritması eğitimi ve testi\n",
    "from sklearn.cluster import AgglomerativeClustering\n",
    "hiyerarsi_kume = AgglomerativeClustering(n_clusters = 3, \n",
    "    affinity = \"euclidean\", linkage = \"ward\")\n",
    "# Eğitim\n",
    "kume = hiyerarsi_kume.fit_predict(data)\n",
    "data[\"label\"] = kume \n",
    "# Görsel\n",
    "plt.figure()\n",
    "plt.scatter(data.x[data.label == 0], data.y[data.label == 0], \n",
    "    color = \"red\", label = \"kume 1\")\n",
    "plt.scatter(data.x[data.label == 1], data.y[data.label == 1], \n",
    "    color = \"green\", label = \"kume 2\")\n",
    "plt.scatter(data.x[data.label == 2], data.y[data.label == 2], \n",
    "    color = \"blue\", label = \"kume 3\")\n",
    "plt.legend()\n",
    "plt.xlabel(\"X\")\n",
    "plt.ylabel(\"Y\")\n",
    "plt.title(\"3 Ortalama Kümeleme Sonucu\")\n",
    "plt.show()"
   ]
  },
  {
   "cell_type": "code",
   "execution_count": null,
   "metadata": {},
   "outputs": [],
   "source": []
  }
 ],
 "metadata": {
  "interpreter": {
   "hash": "df0bdd44f3282c8b0fb7a07242e441c802c76eac2f190fb5c82b8993c3ec7e7e"
  },
  "kernelspec": {
   "display_name": "Python 3.8.8 64-bit ('base': conda)",
   "name": "python3"
  },
  "language_info": {
   "codemirror_mode": {
    "name": "ipython",
    "version": 3
   },
   "file_extension": ".py",
   "mimetype": "text/x-python",
   "name": "python",
   "nbconvert_exporter": "python",
   "pygments_lexer": "ipython3",
   "version": "3.9.7"
  },
  "orig_nbformat": 4
 },
 "nbformat": 4,
 "nbformat_minor": 2
}
